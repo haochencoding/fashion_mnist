{
 "cells": [
  {
   "cell_type": "markdown",
   "metadata": {},
   "source": [
    "# Table of Contents"
   ]
  },
  {
   "cell_type": "markdown",
   "metadata": {},
   "source": [
    "- [1. Introduction](#1.-Introduction)\n",
    "    - [1.1. Check environment](#1.1.-Check-environment)\n",
    "- [2. Data Preloading](#2.-Data-Preloading)\n",
    "    - [2.1. Load downloaded data using customised function](#2.1.-Load-downloaded-data-using-customised-function)\n",
    "    - [2.2. Stratified Data Split (50k:10k:10k)](#2.2.-Stratified-Data-Split-(50k:10k:10k)-)\n",
    "    - [2.3. Sanity check](#2.3.-Sanity-check)\n",
    "    - [2.4. Preload Dataset using Custom Dataset](#2.4.-Preload-Dataset-using-Custom-Dataset)\n",
    "- [3. Define training loops](#3.-Define-training-loops)\n",
    "    - [3.1. Define Single Train Loop](#3.1.-Define-Single-Train-Loop)\n",
    "    - [3.2. Define Single Validation Loop](#3.2.-Define-Single-Validation-Loop)\n",
    "    - [3.3. Define epoch iteration loop](#3.3.-Define-epoch-iteration-loop)\n",
    "- [4. Baseline Fully Connected Neural Network](#4.-Baseline-Fully-Connected-Neural-Network)\n",
    "    - [4.1. Neural network structure and parameters](#4.1.-Neural-network-structure-and-parameters)\n",
    "    - [4.2. Loading & Training](#4.2.-Loading-&-Training)\n",
    "    - [4.3. Model performance over epochs](#4.3.-Model-performance-over-epochs)\n",
    "    - [4.4. Model Testing](#4.4.-Model-Testing)\n",
    "    - [4.5 Leaky ReLU & Adam](#4.5-Leaky-ReLU-&-Adam)\n",
    "- [5. Things that did not work out](#5.-Things-that-did-not-work-out)\n",
    "    - [5.1. GPU/MPS training](#5.1.-GPU/MPS-training)\n",
    "    - [5.2. Softmax & Vanishing gradients](#5.2.-Softmax-&-Vanishing-gradients)\n",
    "- [References](#References)"
   ]
  },
  {
   "cell_type": "markdown",
   "metadata": {},
   "source": [
    "# 1. Introduction"
   ]
  },
  {
   "cell_type": "markdown",
   "metadata": {},
   "source": [
    "This notebook is part of Hao Chen's deep learning project for LPI Artificial intelligence (2023-2023). This project builds a fully connected neural network and a convolutional neural network for FashionMNIST dataset. \n",
    "\n",
    "This notebook contains the code for the fully connected neural network (MLP). The structure of MLP is show below:\n",
    "- 1 input layer (784 input, 512 output, ReLU activation)\n",
    "- 1 hidden layer (512 input, 512 output, ReLU activation)\n",
    "- 1 output layer (512 input, 10 output, no activation function)\n",
    "- Total: 669706 parameters.\n",
    "\n",
    "Overall, I achieved ~0.88 accuracy on the test dataset, after 50 training epochs, despite overfitting."
   ]
  },
  {
   "cell_type": "markdown",
   "metadata": {},
   "source": [
    "## 1.1. Check environment"
   ]
  },
  {
   "cell_type": "code",
   "execution_count": 1,
   "metadata": {},
   "outputs": [
    {
     "name": "stdout",
     "output_type": "stream",
     "text": [
      "Python version: 3.11.5\n",
      "PyTorch version: 2.1.2\n",
      "Cuda Availablility: False\n",
      "Metal Performance Shaders (MPS) Availablility: True\n"
     ]
    }
   ],
   "source": [
    "import torch\n",
    "from platform import python_version\n",
    "\n",
    "# Report the versions of overall environment \n",
    "print(f'Python version: {python_version()}')\n",
    "print(f'PyTorch version: {torch.__version__}')\n",
    "\n",
    "# Report the availability or GPU and MPS training \n",
    "cuda_available = torch.cuda.is_available()\n",
    "mps_available = torch.backends.mps.is_available()\n",
    "\n",
    "print(f'Cuda Availablility: {cuda_available}')\n",
    "print(f'Metal Performance Shaders (MPS) Availablility: {mps_available}')"
   ]
  },
  {
   "cell_type": "markdown",
   "metadata": {},
   "source": [
    "# 2. Data Preloading"
   ]
  },
  {
   "cell_type": "markdown",
   "metadata": {},
   "source": [
    "## 2.1. Load downloaded data using customised function"
   ]
  },
  {
   "cell_type": "code",
   "execution_count": 2,
   "metadata": {},
   "outputs": [
    {
     "name": "stdout",
     "output_type": "stream",
     "text": [
      "Imported file: ./data/FashionMNIST/raw/train-images-idx3-ubyte\n",
      "Data type: images; Data shape: (60000, 784)\n",
      "Imported file: ./data/FashionMNIST/raw/train-labels-idx1-ubyte\n",
      "Data type: labels; Data shape: (60000,)\n",
      "Imported file: ./data/FashionMNIST/raw/t10k-images-idx3-ubyte\n",
      "Data type: images; Data shape: (10000, 784)\n",
      "Imported file: ./data/FashionMNIST/raw/t10k-labels-idx1-ubyte\n",
      "Data type: labels; Data shape: (10000,)\n"
     ]
    }
   ],
   "source": [
    "import numpy as np\n",
    "from utils.dataset import import_data\n",
    "\n",
    "# Set data path\n",
    "train_label_path = './data/FashionMNIST/raw/train-labels-idx1-ubyte'\n",
    "train_images_path = './data/FashionMNIST/raw/train-images-idx3-ubyte'\n",
    "test_label_path = './data/FashionMNIST/raw/t10k-labels-idx1-ubyte'\n",
    "test_images_path = './data/FashionMNIST/raw/t10k-images-idx3-ubyte'\n",
    "\n",
    "# import data\n",
    "images = import_data(train_images_path, images=True, train=True)\n",
    "labels = import_data(train_label_path, images=False, train=True)\n",
    "test_images = import_data(test_images_path, images=True, train=False)\n",
    "test_labels = import_data(test_label_path, images=False, train=False)"
   ]
  },
  {
   "cell_type": "markdown",
   "metadata": {},
   "source": [
    "## 2.2. Stratified Data Split (50k:10k:10k)"
   ]
  },
  {
   "cell_type": "markdown",
   "metadata": {},
   "source": [
    "The original data has 60k samples in training dataset and 10k samples in test dataset. The split was stratified based on the class of target labels. \n",
    "\n",
    "Here I split the original training dataset into 50k samples for training and 10k samples for validation, stratified based on the class of target labels. "
   ]
  },
  {
   "cell_type": "code",
   "execution_count": 3,
   "metadata": {},
   "outputs": [],
   "source": [
    "from sklearn.model_selection import train_test_split\n",
    "\n",
    "train_images, val_images, train_labels, val_labels = train_test_split(\n",
    "    images, labels, test_size=1/6, random_state=42, stratify=labels\n",
    ")"
   ]
  },
  {
   "cell_type": "code",
   "execution_count": 4,
   "metadata": {},
   "outputs": [
    {
     "name": "stdout",
     "output_type": "stream",
     "text": [
      "The shape of train image data: (50000, 784)\n",
      "The shape of train label data: (50000,)\n",
      "The shape of validation image data: (10000, 784)\n",
      "The shape of validation label data: (10000,)\n",
      "The shape of validation image data: (10000, 784)\n",
      "The shape of test label data: (10000,)\n"
     ]
    }
   ],
   "source": [
    "print(f'The shape of train image data: {train_images.shape}')\n",
    "print(f'The shape of train label data: {train_labels.shape}')\n",
    "print(f'The shape of validation image data: {val_images.shape}')\n",
    "print(f'The shape of validation label data: {val_labels.shape}')\n",
    "print(f'The shape of validation image data: {test_images.shape}')\n",
    "print(f'The shape of test label data: {test_labels.shape}')"
   ]
  },
  {
   "cell_type": "markdown",
   "metadata": {},
   "source": [
    "## 2.3. Sanity check"
   ]
  },
  {
   "cell_type": "markdown",
   "metadata": {},
   "source": [
    "### 2.3.1. Check class distribution"
   ]
  },
  {
   "cell_type": "markdown",
   "metadata": {},
   "source": [
    "Check number of classes in each dataset"
   ]
  },
  {
   "cell_type": "code",
   "execution_count": 5,
   "metadata": {},
   "outputs": [
    {
     "data": {
      "text/html": [
       "<div>\n",
       "<style scoped>\n",
       "    .dataframe tbody tr th:only-of-type {\n",
       "        vertical-align: middle;\n",
       "    }\n",
       "\n",
       "    .dataframe tbody tr th {\n",
       "        vertical-align: top;\n",
       "    }\n",
       "\n",
       "    .dataframe thead th {\n",
       "        text-align: right;\n",
       "    }\n",
       "</style>\n",
       "<table border=\"1\" class=\"dataframe\">\n",
       "  <thead>\n",
       "    <tr style=\"text-align: right;\">\n",
       "      <th></th>\n",
       "      <th>train</th>\n",
       "      <th>val</th>\n",
       "      <th>test</th>\n",
       "    </tr>\n",
       "  </thead>\n",
       "  <tbody>\n",
       "    <tr>\n",
       "      <th>T-shirt/top</th>\n",
       "      <td>5000</td>\n",
       "      <td>1000</td>\n",
       "      <td>1000</td>\n",
       "    </tr>\n",
       "    <tr>\n",
       "      <th>Trouser</th>\n",
       "      <td>5000</td>\n",
       "      <td>1000</td>\n",
       "      <td>1000</td>\n",
       "    </tr>\n",
       "    <tr>\n",
       "      <th>Pullover</th>\n",
       "      <td>5000</td>\n",
       "      <td>1000</td>\n",
       "      <td>1000</td>\n",
       "    </tr>\n",
       "    <tr>\n",
       "      <th>Dress</th>\n",
       "      <td>5000</td>\n",
       "      <td>1000</td>\n",
       "      <td>1000</td>\n",
       "    </tr>\n",
       "    <tr>\n",
       "      <th>Coat</th>\n",
       "      <td>5000</td>\n",
       "      <td>1000</td>\n",
       "      <td>1000</td>\n",
       "    </tr>\n",
       "    <tr>\n",
       "      <th>Sandal</th>\n",
       "      <td>5000</td>\n",
       "      <td>1000</td>\n",
       "      <td>1000</td>\n",
       "    </tr>\n",
       "    <tr>\n",
       "      <th>Shirt</th>\n",
       "      <td>5000</td>\n",
       "      <td>1000</td>\n",
       "      <td>1000</td>\n",
       "    </tr>\n",
       "    <tr>\n",
       "      <th>Sneaker</th>\n",
       "      <td>5000</td>\n",
       "      <td>1000</td>\n",
       "      <td>1000</td>\n",
       "    </tr>\n",
       "    <tr>\n",
       "      <th>Bag</th>\n",
       "      <td>5000</td>\n",
       "      <td>1000</td>\n",
       "      <td>1000</td>\n",
       "    </tr>\n",
       "    <tr>\n",
       "      <th>Ankle Boot</th>\n",
       "      <td>5000</td>\n",
       "      <td>1000</td>\n",
       "      <td>1000</td>\n",
       "    </tr>\n",
       "  </tbody>\n",
       "</table>\n",
       "</div>"
      ],
      "text/plain": [
       "             train   val  test\n",
       "T-shirt/top   5000  1000  1000\n",
       "Trouser       5000  1000  1000\n",
       "Pullover      5000  1000  1000\n",
       "Dress         5000  1000  1000\n",
       "Coat          5000  1000  1000\n",
       "Sandal        5000  1000  1000\n",
       "Shirt         5000  1000  1000\n",
       "Sneaker       5000  1000  1000\n",
       "Bag           5000  1000  1000\n",
       "Ankle Boot    5000  1000  1000"
      ]
     },
     "execution_count": 5,
     "metadata": {},
     "output_type": "execute_result"
    }
   ],
   "source": [
    "import pandas as pd\n",
    "\n",
    "# Store the names of target labels into a list\n",
    "classes = ['T-shirt/top', 'Trouser', 'Pullover', 'Dress', 'Coat', 'Sandal', 'Shirt', 'Sneaker', 'Bag', 'Ankle Boot']\n",
    "\n",
    "# Count the number of labels in each dataset\n",
    "label_counts = {}\n",
    "label_counts['train'] = pd.Series(train_labels).sort_values().value_counts()\n",
    "label_counts['val'] = pd.Series(val_labels).sort_values().value_counts()\n",
    "label_counts['test']  = pd.Series(test_labels).sort_values().value_counts()\n",
    "\n",
    "# Present the distribution using pandas dataframe\n",
    "label_counts_df = pd.DataFrame(label_counts)\n",
    "label_counts_df.index = classes\n",
    "\n",
    "label_counts_df"
   ]
  },
  {
   "cell_type": "markdown",
   "metadata": {},
   "source": [
    "### 2.3.2 Check images"
   ]
  },
  {
   "cell_type": "markdown",
   "metadata": {},
   "source": [
    "Randomly select one image from each class, display them."
   ]
  },
  {
   "cell_type": "code",
   "execution_count": 6,
   "metadata": {},
   "outputs": [
    {
     "data": {
      "image/png": "[encoded data removed]",
      "text/plain": [
       "<Figure size 1400x600 with 10 Axes>"
      ]
     },
     "metadata": {},
     "output_type": "display_data"
    }
   ],
   "source": [
    "import matplotlib.pyplot as plt\n",
    "\n",
    "classes = ['T-shirt/top', 'Trouser', 'Pullover', 'Dress', 'Coat', 'Sandal', 'Shirt', 'Sneaker', 'Bag', 'Ankle Boot']\n",
    "\n",
    "# Set up a figure with 10 axes\n",
    "fig, axes = plt.subplots(2, 5, figsize=(14, 6))\n",
    "\n",
    "for i in range(len(classes)):\n",
    "    # Find indices of all images belonging to class i\n",
    "    class_indices = np.where(train_labels == i)[0]\n",
    "    # Randomly sample one index\n",
    "    image_idx = np.random.choice(class_indices)\n",
    "    # Retrieve and display the randomly selected image\n",
    "    # Reshape the flattened image data back to 28*28 pixels\n",
    "    image_data = train_images[image_idx].reshape(28, 28)\n",
    "    # Set cmaps as 'gray', as picture is in grayscale\n",
    "    axes[i // 5, i % 5].imshow(image_data, cmap='gray')\n",
    "    axes[i // 5, i % 5].axis('off')\n",
    "    axes[i // 5, i % 5].set_title(classes[i])\n",
    "\n",
    "# Adjust spacing and display the plot\n",
    "plt.tight_layout()\n",
    "plt.show()"
   ]
  },
  {
   "cell_type": "markdown",
   "metadata": {},
   "source": [
    "## 2.4. Preload Dataset using Custom Dataset"
   ]
  },
  {
   "cell_type": "code",
   "execution_count": 7,
   "metadata": {},
   "outputs": [],
   "source": [
    "from utils.dataset import FashionData"
   ]
  },
  {
   "cell_type": "code",
   "execution_count": 8,
   "metadata": {},
   "outputs": [],
   "source": [
    "train_data = FashionData(train_images, train_labels)\n",
    "val_data = FashionData(val_images, val_labels)\n",
    "test_data = FashionData(test_images, test_labels)"
   ]
  },
  {
   "cell_type": "markdown",
   "metadata": {},
   "source": [
    "# 3. Define training loops"
   ]
  },
  {
   "cell_type": "markdown",
   "metadata": {},
   "source": [
    "### 3.1. Define Single Train Loop"
   ]
  },
  {
   "cell_type": "code",
   "execution_count": 9,
   "metadata": {},
   "outputs": [],
   "source": [
    "def train(dataloader, model, optimizer, loss_fn, metric, device):\n",
    "    train_loss = 0.0\n",
    "\n",
    "    # Set the model to train mode\n",
    "    model.train()\n",
    "    # Clear the internal state of the metric\n",
    "    metric.reset()\n",
    "\n",
    "    for images, labels in dataloader:\n",
    "        \n",
    "        # Send data to device\n",
    "        X, y = images.to(device), labels.to(device)\n",
    "\n",
    "        # Zero gradients for each batch\n",
    "        optimizer.zero_grad()\n",
    "\n",
    "        # Compute loss\n",
    "        outputs = model(X)\n",
    "        loss = loss_fn(outputs, y)\n",
    "\n",
    "        # Backpropagation \n",
    "        loss.backward()\n",
    "        optimizer.step()\n",
    "        \n",
    "        # Store loss\n",
    "        train_loss += loss.item()\n",
    "        \n",
    "        # Update the the metric with prediction of the batch\n",
    "        _, preds = torch.max(outputs, 1)\n",
    "        metric.update(preds, y)\n",
    "\n",
    "    # Calculate average training loss during one epoch\n",
    "    avg_train_loss = train_loss / len(dataloader)\n",
    "    print(f'average training loss: {avg_train_loss}')\n",
    "\n",
    "    # Calculate the metric over the whole epoch\n",
    "    train_metric = metric.compute().item()\n",
    "    print(f'train set score: {train_metric}')\n",
    "\n",
    "    # return accuracy over the epoch\n",
    "    return avg_train_loss, train_metric"
   ]
  },
  {
   "cell_type": "markdown",
   "metadata": {},
   "source": [
    "### 3.2. Define Single Validation Loop"
   ]
  },
  {
   "cell_type": "code",
   "execution_count": 10,
   "metadata": {},
   "outputs": [],
   "source": [
    "def test(dataloader, model, loss_fn, metric, device, validate=True):\n",
    "    # Set the model to evaluation mode\n",
    "    model.eval()\n",
    "    # Clear internal state of metric\n",
    "    metric.reset()\n",
    "\n",
    "     # Seepd up the forward pass by disabling gradient calculation\n",
    "    with torch.no_grad():\n",
    "        test_loss = 0.0\n",
    "        for images, labels in dataloader:\n",
    "            # Send data to CPU\n",
    "            X, y = images.to(device), labels.to(device)\n",
    "\n",
    "            # Compute prediction error\n",
    "            outputs = model(X)\n",
    "            loss = loss_fn(outputs, y)\n",
    "\n",
    "            # Store loss\n",
    "            test_loss += loss.item()\n",
    "\n",
    "            # Compute accuracy\n",
    "            # Update the the metric with prediction of the batch\n",
    "            _, preds = torch.max(outputs, 1)\n",
    "            metric.update(preds, y)\n",
    "        \n",
    "        if validate:\n",
    "            situation = 'validation'\n",
    "        else:\n",
    "            situation = 'test'\n",
    "\n",
    "        # Calculate average validation loss during one epoch\n",
    "        avg_test_loss = test_loss / len(dataloader)\n",
    "        print(f'average {situation} loss: {avg_test_loss}')\n",
    "\n",
    "        # Calculate accuracy over the epoch\n",
    "        test_metric = metric.compute().item()\n",
    "        print(f'{situation} set score: {test_metric}')\n",
    "\n",
    "    return avg_test_loss, test_metric"
   ]
  },
  {
   "cell_type": "markdown",
   "metadata": {},
   "source": [
    "### 3.3. Define epoch iteration loop"
   ]
  },
  {
   "cell_type": "code",
   "execution_count": 11,
   "metadata": {},
   "outputs": [],
   "source": [
    "from collections import defaultdict\n",
    "import time"
   ]
  },
  {
   "cell_type": "code",
   "execution_count": 12,
   "metadata": {},
   "outputs": [],
   "source": [
    "def train_validate_iteration(\n",
    "        train_dataloader, val_dataloader,\n",
    "        num_epochs,\n",
    "        model, optimizer, loss_fn, metric,\n",
    "        device\n",
    "):\n",
    "    # initialise empty dictionary to store loss and metrics\n",
    "    epoch_summary = defaultdict(list)\n",
    "    \n",
    "    print(f'Total number of epochs: {num_epochs}')\n",
    "    epoch_summary['num_epochs'].append(num_epochs)\n",
    "    \n",
    "    # Record the start time\n",
    "    start_time = time.time()\n",
    "\n",
    "    for epoch in range(num_epochs):\n",
    "        # train loop\n",
    "        avg_train_loss, train_metric = train(\n",
    "            dataloader = train_dataloader,\n",
    "            model=model,\n",
    "            optimizer=optimizer,\n",
    "            loss_fn=loss_fn,\n",
    "            metric=metric,\n",
    "            device=device\n",
    "            )\n",
    "        epoch_summary['train_loss'].append(avg_train_loss)\n",
    "        epoch_summary['train_score'].append(train_metric)\n",
    "\n",
    "        # validation loop\n",
    "        avg_val_loss, val_metric = test(\n",
    "            dataloader = val_dataloader,\n",
    "            model=model,\n",
    "            loss_fn=loss_fn,\n",
    "            metric=metric,\n",
    "            device=device,\n",
    "            validate=True\n",
    "            )\n",
    "        epoch_summary['val_loss'].append(avg_val_loss)\n",
    "        epoch_summary['val_score'].append(val_metric)\n",
    "\n",
    "        print(f\"-------------------------------\")\n",
    "\n",
    "    # Record the end time\n",
    "    end_time = time.time()\n",
    "\n",
    "    # Calculate the elapsed time\n",
    "    elapsed_time = end_time - start_time\n",
    "    epoch_summary['time'].append(elapsed_time)\n",
    "\n",
    "    print(f\"Time taken: {elapsed_time:.2f} seconds\")\n",
    "\n",
    "    return epoch_summary"
   ]
  },
  {
   "cell_type": "markdown",
   "metadata": {},
   "source": [
    "# 4. Baseline Fully Connected Neural Network"
   ]
  },
  {
   "cell_type": "markdown",
   "metadata": {},
   "source": [
    "The code below will build a baseline fully connected neural network, with parameters and loss functions from this [pytorch tutorial](https://pytorch.org/tutorials/beginner/basics/quickstart_tutorial.html)."
   ]
  },
  {
   "cell_type": "markdown",
   "metadata": {},
   "source": [
    "## 4.1. Neural network structure and parameters"
   ]
  },
  {
   "cell_type": "code",
   "execution_count": 13,
   "metadata": {},
   "outputs": [],
   "source": [
    "from torch import nn\n",
    "import time\n",
    "import torchmetrics"
   ]
  },
  {
   "cell_type": "code",
   "execution_count": 14,
   "metadata": {},
   "outputs": [],
   "source": [
    "n_feature = 28 * 28 # set n_feature = n_pixel, as the image has 28x28 pixels \n",
    "n_labels = len(classes) # number of output feature, fed into Softmax\n",
    "\n",
    "class BaselineFCNN(nn.Module):\n",
    "    def __init__(self):\n",
    "        super().__init__()\n",
    "        self.flatten = nn.Flatten()\n",
    "        self.fc1 = nn.Linear(n_feature, 512)\n",
    "        self.fc2 = nn.Linear(512, 512)\n",
    "        self.fc3 = nn.Linear(512, n_labels)\n",
    "\n",
    "    def forward(self, x):\n",
    "        x = self.flatten(x)  # Flatten the input data\n",
    "        x = nn.functional.relu(self.fc1(x)) # Set Relu activation funciton\n",
    "        x = nn.functional.relu(self.fc2(x)) # Set Relu activation funciton\n",
    "        x = self.fc3(x)\n",
    "\n",
    "        return x"
   ]
  },
  {
   "cell_type": "markdown",
   "metadata": {},
   "source": [
    "### Note"
   ]
  },
  {
   "cell_type": "markdown",
   "metadata": {},
   "source": [
    "nn.Relu() vs nn.functional.relu()\n",
    "- nn.ReLU() creates an nn.Module which you can add e.g. to an nn.Sequential model.\n",
    "nn.functional.relu on the other side is just the functional API call to the relu function, so that you can add it e.g. in your forward method yourself. From [this post](https://discuss.pytorch.org/t/whats-the-difference-between-nn-relu-vs-f-relu/27599). "
   ]
  },
  {
   "cell_type": "markdown",
   "metadata": {},
   "source": [
    "number of parameters:\n",
    "- First layer: 784 * 512 + 512 = 401920\n",
    "- ReLU: no parameter\n",
    "- Second layer: 512 * 512 + 512 = 262656\n",
    "- ReLU: no parameter\n",
    "- Third layer: 512 * 10 + 10 = 5130\n",
    "- Total: 669706"
   ]
  },
  {
   "cell_type": "markdown",
   "metadata": {},
   "source": [
    "## 4.2. Loading & Training"
   ]
  },
  {
   "cell_type": "code",
   "execution_count": 15,
   "metadata": {},
   "outputs": [],
   "source": [
    "# Loading\n",
    "from torch.utils.data import DataLoader\n",
    "train_dataloader = DataLoader(train_data, batch_size=64, shuffle=True, num_workers=0)\n",
    "val_dataloader = DataLoader(val_data, batch_size=64, shuffle=False)\n",
    "test_dataloader = DataLoader(test_data, batch_size=64, shuffle=False)"
   ]
  },
  {
   "cell_type": "code",
   "execution_count": 16,
   "metadata": {},
   "outputs": [
    {
     "name": "stdout",
     "output_type": "stream",
     "text": [
      "Total number of epochs: 50\n",
      "average training loss: 0.8444333303424404\n",
      "train set score: 0.7960399985313416\n",
      "average validation loss: 0.48289523847923155\n",
      "validation set score: 0.8342000246047974\n",
      "-------------------------------\n",
      "average training loss: 0.4055700862727812\n",
      "train set score: 0.8543400168418884\n",
      "average validation loss: 0.4077659587191928\n",
      "validation set score: 0.8551999926567078\n",
      "-------------------------------\n",
      "average training loss: 0.35387619432357265\n",
      "train set score: 0.8729000091552734\n",
      "average validation loss: 0.4818304089983557\n",
      "validation set score: 0.8338000178337097\n",
      "-------------------------------\n",
      "average training loss: 0.323302347517913\n",
      "train set score: 0.883679986000061\n",
      "average validation loss: 0.382396999105906\n",
      "validation set score: 0.867900013923645\n",
      "-------------------------------\n",
      "average training loss: 0.2984326901986166\n",
      "train set score: 0.8907600045204163\n",
      "average validation loss: 0.3820834875486459\n",
      "validation set score: 0.864300012588501\n",
      "-------------------------------\n",
      "average training loss: 0.28002923644145433\n",
      "train set score: 0.8979200124740601\n",
      "average validation loss: 0.407542675259007\n",
      "validation set score: 0.8600999712944031\n",
      "-------------------------------\n",
      "average training loss: 0.26406225242921155\n",
      "train set score: 0.9033399820327759\n",
      "average validation loss: 0.43806279521838876\n",
      "validation set score: 0.8565000295639038\n",
      "-------------------------------\n",
      "average training loss: 0.24903243564812425\n",
      "train set score: 0.9091600179672241\n",
      "average validation loss: 0.3503088449027128\n",
      "validation set score: 0.8795999884605408\n",
      "-------------------------------\n",
      "average training loss: 0.2360868980950864\n",
      "train set score: 0.9147999882698059\n",
      "average validation loss: 0.3755247620450463\n",
      "validation set score: 0.8652999997138977\n",
      "-------------------------------\n",
      "average training loss: 0.22525585343694443\n",
      "train set score: 0.9187999963760376\n",
      "average validation loss: 0.3412900203542345\n",
      "validation set score: 0.8830000162124634\n",
      "-------------------------------\n",
      "average training loss: 0.21438298716931545\n",
      "train set score: 0.9220600128173828\n",
      "average validation loss: 0.33826086076961204\n",
      "validation set score: 0.8858000040054321\n",
      "-------------------------------\n",
      "average training loss: 0.205008334906586\n",
      "train set score: 0.9272000193595886\n",
      "average validation loss: 0.35151238801183216\n",
      "validation set score: 0.883899986743927\n",
      "-------------------------------\n",
      "average training loss: 0.19667809295570454\n",
      "train set score: 0.929419994354248\n",
      "average validation loss: 0.3500353010596743\n",
      "validation set score: 0.881600022315979\n",
      "-------------------------------\n",
      "average training loss: 0.18798891452553174\n",
      "train set score: 0.9325399994850159\n",
      "average validation loss: 0.3644625861553629\n",
      "validation set score: 0.8787999749183655\n",
      "-------------------------------\n",
      "average training loss: 0.17899607002849469\n",
      "train set score: 0.9359400272369385\n",
      "average validation loss: 0.35934323855456274\n",
      "validation set score: 0.8808000087738037\n",
      "-------------------------------\n",
      "average training loss: 0.1715361476182709\n",
      "train set score: 0.9387999773025513\n",
      "average validation loss: 0.3965159272122535\n",
      "validation set score: 0.8673999905586243\n",
      "-------------------------------\n",
      "average training loss: 0.1643419973409313\n",
      "train set score: 0.9416999816894531\n",
      "average validation loss: 0.33911534963519707\n",
      "validation set score: 0.8895000219345093\n",
      "-------------------------------\n",
      "average training loss: 0.1578235815629325\n",
      "train set score: 0.9433799982070923\n",
      "average validation loss: 0.35601711453525886\n",
      "validation set score: 0.880299985408783\n",
      "-------------------------------\n",
      "average training loss: 0.15312005709999663\n",
      "train set score: 0.9464600086212158\n",
      "average validation loss: 0.5028310946787998\n",
      "validation set score: 0.8438000082969666\n",
      "-------------------------------\n",
      "average training loss: 0.1460832603790266\n",
      "train set score: 0.9486600160598755\n",
      "average validation loss: 0.5448617373777044\n",
      "validation set score: 0.8515999913215637\n",
      "-------------------------------\n",
      "average training loss: 0.14014567711802622\n",
      "train set score: 0.9505400061607361\n",
      "average validation loss: 0.33437634852661446\n",
      "validation set score: 0.8913000226020813\n",
      "-------------------------------\n",
      "average training loss: 0.1352325967439186\n",
      "train set score: 0.9528999924659729\n",
      "average validation loss: 0.35202173205317966\n",
      "validation set score: 0.8881000280380249\n",
      "-------------------------------\n",
      "average training loss: 0.12945733913708754\n",
      "train set score: 0.95551997423172\n",
      "average validation loss: 0.3526726468068779\n",
      "validation set score: 0.8870000243186951\n",
      "-------------------------------\n",
      "average training loss: 0.12504805798840035\n",
      "train set score: 0.9567000269889832\n",
      "average validation loss: 0.3408862550262433\n",
      "validation set score: 0.8916000127792358\n",
      "-------------------------------\n",
      "average training loss: 0.11819423497666406\n",
      "train set score: 0.9603800177574158\n",
      "average validation loss: 0.48922519366832296\n",
      "validation set score: 0.8497999906539917\n",
      "-------------------------------\n",
      "average training loss: 0.11338634273547041\n",
      "train set score: 0.9613199830055237\n",
      "average validation loss: 0.36692172099070947\n",
      "validation set score: 0.8863999843597412\n",
      "-------------------------------\n",
      "average training loss: 0.11017077765606172\n",
      "train set score: 0.9621800184249878\n",
      "average validation loss: 0.37804580878490096\n",
      "validation set score: 0.888700008392334\n",
      "-------------------------------\n",
      "average training loss: 0.10568137366153166\n",
      "train set score: 0.9639400243759155\n",
      "average validation loss: 0.4291397999426362\n",
      "validation set score: 0.8665000200271606\n",
      "-------------------------------\n",
      "average training loss: 0.1004890567739792\n",
      "train set score: 0.9656000137329102\n",
      "average validation loss: 0.4284154120239483\n",
      "validation set score: 0.8709999918937683\n",
      "-------------------------------\n",
      "average training loss: 0.09746373394418441\n",
      "train set score: 0.9675400257110596\n",
      "average validation loss: 0.3552163229531543\n",
      "validation set score: 0.8934999704360962\n",
      "-------------------------------\n",
      "average training loss: 0.09447061865116514\n",
      "train set score: 0.9692800045013428\n",
      "average validation loss: 0.3589400440739219\n",
      "validation set score: 0.8931999802589417\n",
      "-------------------------------\n",
      "average training loss: 0.08980897582991196\n",
      "train set score: 0.9700999855995178\n",
      "average validation loss: 0.4000636072010751\n",
      "validation set score: 0.8858000040054321\n",
      "-------------------------------\n",
      "average training loss: 0.0870292256931629\n",
      "train set score: 0.9718999862670898\n",
      "average validation loss: 0.35560784104523385\n",
      "validation set score: 0.8944000005722046\n",
      "-------------------------------\n",
      "average training loss: 0.08128002638240224\n",
      "train set score: 0.9732400178909302\n",
      "average validation loss: 0.3715203471339432\n",
      "validation set score: 0.8927000164985657\n",
      "-------------------------------\n",
      "average training loss: 0.07971809799675747\n",
      "train set score: 0.9735999703407288\n",
      "average validation loss: 0.3820324724267243\n",
      "validation set score: 0.8902999758720398\n",
      "-------------------------------\n",
      "average training loss: 0.07679876874622596\n",
      "train set score: 0.9752600193023682\n",
      "average validation loss: 0.3838222119838569\n",
      "validation set score: 0.8866999745368958\n",
      "-------------------------------\n",
      "average training loss: 0.07450271621608483\n",
      "train set score: 0.9763000011444092\n",
      "average validation loss: 0.36683492424191944\n",
      "validation set score: 0.8913999795913696\n",
      "-------------------------------\n",
      "average training loss: 0.06888289229891946\n",
      "train set score: 0.977940022945404\n",
      "average validation loss: 0.3784638237991151\n",
      "validation set score: 0.8949000239372253\n",
      "-------------------------------\n",
      "average training loss: 0.06724311637363452\n",
      "train set score: 0.978659987449646\n",
      "average validation loss: 0.36693197892160173\n",
      "validation set score: 0.8953999876976013\n",
      "-------------------------------\n",
      "average training loss: 0.06497645754691052\n",
      "train set score: 0.9796000123023987\n",
      "average validation loss: 0.3965388012539809\n",
      "validation set score: 0.8891000151634216\n",
      "-------------------------------\n",
      "average training loss: 0.06294792052596579\n",
      "train set score: 0.9801999926567078\n",
      "average validation loss: 0.37897535586717784\n",
      "validation set score: 0.896399974822998\n",
      "-------------------------------\n",
      "average training loss: 0.060089233700576644\n",
      "train set score: 0.981440007686615\n",
      "average validation loss: 0.39559024387294317\n",
      "validation set score: 0.890500009059906\n",
      "-------------------------------\n",
      "average training loss: 0.05772043313132003\n",
      "train set score: 0.9822999835014343\n",
      "average validation loss: 0.38056103581455863\n",
      "validation set score: 0.8960999846458435\n",
      "-------------------------------\n",
      "average training loss: 0.05456907192692923\n",
      "train set score: 0.983460009098053\n",
      "average validation loss: 0.396016999414772\n",
      "validation set score: 0.8917999863624573\n",
      "-------------------------------\n",
      "average training loss: 0.052237233409034016\n",
      "train set score: 0.9838799834251404\n",
      "average validation loss: 0.3856089727798845\n",
      "validation set score: 0.8980000019073486\n",
      "-------------------------------\n",
      "average training loss: 0.05019731217187822\n",
      "train set score: 0.9850800037384033\n",
      "average validation loss: 0.39523984064721757\n",
      "validation set score: 0.8935999870300293\n",
      "-------------------------------\n",
      "average training loss: 0.04784678795929912\n",
      "train set score: 0.9864199757575989\n",
      "average validation loss: 0.4037858900275959\n",
      "validation set score: 0.8939999938011169\n",
      "-------------------------------\n",
      "average training loss: 0.04656433110789913\n",
      "train set score: 0.986739993095398\n",
      "average validation loss: 0.4459055093158582\n",
      "validation set score: 0.8888999819755554\n",
      "-------------------------------\n",
      "average training loss: 0.04434161574956116\n",
      "train set score: 0.9876199960708618\n",
      "average validation loss: 0.4519330138328728\n",
      "validation set score: 0.8876000046730042\n",
      "-------------------------------\n",
      "average training loss: 0.043438043219366056\n",
      "train set score: 0.9877200126647949\n",
      "average validation loss: 0.4004130551389828\n",
      "validation set score: 0.895799994468689\n",
      "-------------------------------\n",
      "Time taken: 53.11 seconds\n"
     ]
    }
   ],
   "source": [
    "# training\n",
    "device ='cpu'\n",
    "metric = torchmetrics.Accuracy(task='multiclass', num_classes=10)\n",
    "model = BaselineFCNN().to(device)\n",
    "loss_fn = torch.nn.CrossEntropyLoss()\n",
    "optimizer = torch.optim.SGD(model.parameters(), lr=.001)\n",
    "metric = torchmetrics.Accuracy(task='multiclass', num_classes=10).to(device)\n",
    "\n",
    "summary = train_validate_iteration(\n",
    "    train_dataloader=train_dataloader,\n",
    "    val_dataloader=val_dataloader,\n",
    "    num_epochs=50,\n",
    "    model=model,\n",
    "    optimizer=optimizer,\n",
    "    loss_fn=loss_fn,\n",
    "    metric=metric,\n",
    "    device=device\n",
    ")"
   ]
  },
  {
   "cell_type": "markdown",
   "metadata": {},
   "source": [
    "## 4.3. Model performance over epochs"
   ]
  },
  {
   "cell_type": "markdown",
   "metadata": {},
   "source": [
    "From the graph below, we can see that the model performance starts to plateau after around 10 epoches. \n",
    "\n",
    "Model performance also starts to fluctuate and even decrease after around 20 epoches, indicating over-fitting.\n",
    "\n",
    "To address this, we can use early stopping, data augmentation, and other methods. I'll implement these methods in the CNN training. "
   ]
  },
  {
   "cell_type": "code",
   "execution_count": 17,
   "metadata": {},
   "outputs": [
    {
     "data": {
      "image/png": "[encoded data removed]",
      "text/plain": [
       "<Figure size 640x480 with 1 Axes>"
      ]
     },
     "metadata": {},
     "output_type": "display_data"
    }
   ],
   "source": [
    "plt.plot(summary['train_loss'], color='skyblue', label='train loss')\n",
    "plt.plot(summary['val_loss'], color='red', label='validation loss')\n",
    "plt.xlabel('Epoch')\n",
    "plt.legend()\n",
    "plt.show()"
   ]
  },
  {
   "cell_type": "code",
   "execution_count": 18,
   "metadata": {},
   "outputs": [
    {
     "data": {
      "image/png": "[encoded data removed]",
      "text/plain": [
       "<Figure size 640x480 with 1 Axes>"
      ]
     },
     "metadata": {},
     "output_type": "display_data"
    }
   ],
   "source": [
    "plt.plot(summary['train_score'], color='skyblue', label='train accuracy')\n",
    "plt.plot(summary['val_score'], color='red', label='validation accuracy')\n",
    "plt.xlabel('Epoch')\n",
    "plt.legend()\n",
    "plt.show()"
   ]
  },
  {
   "cell_type": "markdown",
   "metadata": {},
   "source": [
    "## 4.4. Model Testing"
   ]
  },
  {
   "cell_type": "code",
   "execution_count": 19,
   "metadata": {},
   "outputs": [],
   "source": [
    "from utils.model_train_test import metrics_across_classes"
   ]
  },
  {
   "cell_type": "code",
   "execution_count": 20,
   "metadata": {},
   "outputs": [
    {
     "name": "stdout",
     "output_type": "stream",
     "text": [
      "         class  precision  recall  f1-score  support\n",
      "0  T-shirt/top   0.807877   0.841  0.824106     1000\n",
      "1      Trouser   0.989754   0.966  0.977733     1000\n",
      "2     Pullover   0.801211   0.794  0.797589     1000\n",
      "3        Dress   0.869059   0.896  0.882324     1000\n",
      "4         Coat   0.773345   0.853  0.811222     1000\n",
      "5       Sandal   0.967807   0.962  0.964895     1000\n",
      "6        Shirt   0.733967   0.618  0.671010     1000\n",
      "7      Sneaker   0.943676   0.955  0.949304     1000\n",
      "8          Bag   0.961576   0.976  0.968735     1000\n",
      "9   Ankle Boot   0.958794   0.954  0.956391     1000\n",
      "--------------------------------------------------\n",
      "Overall accuracy: 0.882\n",
      "Macro average precision: 0.881, Recall: 0.882, F1: 0.880\n",
      "Weighted average precision: 0.881, Recall: 0.882, F1: 0.880\n"
     ]
    }
   ],
   "source": [
    "metrics_across_classes(test_dataloader, model, device, classes)"
   ]
  },
  {
   "cell_type": "markdown",
   "metadata": {},
   "source": [
    "## 4.5 Leaky ReLU & Adam"
   ]
  },
  {
   "cell_type": "markdown",
   "metadata": {},
   "source": [
    "Below I want to try if using LeakyReLU & Adam optimizer can help improve the model performance. The performance of this model is similar to the previous one, but with severe overfitting."
   ]
  },
  {
   "cell_type": "markdown",
   "metadata": {},
   "source": [
    "Mechanisms:\n",
    "- LeakyReLU suffers less from vanishing gradients than ReLU, as it has a small, positive gradient for negative inputs.\n",
    "- Adam optimizer incoporates these two improved features, compared with SGD optimizer.\n",
    "    - **Adaptive learning rate**: decrease the learning rate during training for parameters that are infrequently updated\n",
    "    - **Gradient momentum**: update for each parameter based on the size of its previous gradients"
   ]
  },
  {
   "cell_type": "code",
   "execution_count": 21,
   "metadata": {},
   "outputs": [],
   "source": [
    "# Define a neural network with LeakyReLU\n",
    "n_feature = 28 * 28 # set n_feature = n_pixel, as the image has 28x28 pixels \n",
    "n_labels = len(classes) # number of output feature\n",
    "\n",
    "class LeakyBaselineFCNN(nn.Module):\n",
    "    def __init__(self):\n",
    "        super().__init__()\n",
    "        self.flatten = nn.Flatten()\n",
    "        self.fc1 = nn.Linear(n_feature, 512)\n",
    "        self.fc2 = nn.Linear(512, 512)\n",
    "        self.fc3 = nn.Linear(512, n_labels)\n",
    "\n",
    "    def forward(self, x):\n",
    "        x = self.flatten(x)  # Flatten the input data\n",
    "        x = nn.functional.leaky_relu(self.fc1(x)) # Set Relu activation funciton\n",
    "        x = nn.functional.leaky_relu(self.fc2(x)) # Set Relu activation funciton\n",
    "        x = self.fc3(x)\n",
    "\n",
    "        return x"
   ]
  },
  {
   "cell_type": "code",
   "execution_count": 22,
   "metadata": {},
   "outputs": [
    {
     "name": "stdout",
     "output_type": "stream",
     "text": [
      "Total number of epochs: 50\n",
      "average training loss: 0.8618910898790335\n",
      "train set score: 0.7989799976348877\n",
      "average validation loss: 0.42123340962419087\n",
      "validation set score: 0.8468999862670898\n",
      "-------------------------------\n",
      "average training loss: 0.42345705161542846\n",
      "train set score: 0.8434600234031677\n",
      "average validation loss: 0.38848067820072174\n",
      "validation set score: 0.8639000058174133\n",
      "-------------------------------\n",
      "average training loss: 0.39266961555727914\n",
      "train set score: 0.8547199964523315\n",
      "average validation loss: 0.4048840382676216\n",
      "validation set score: 0.8521999716758728\n",
      "-------------------------------\n",
      "average training loss: 0.38087132045298894\n",
      "train set score: 0.8618000149726868\n",
      "average validation loss: 0.3593846363531556\n",
      "validation set score: 0.8751000165939331\n",
      "-------------------------------\n",
      "average training loss: 0.3607188447395249\n",
      "train set score: 0.8690400123596191\n",
      "average validation loss: 0.4128311138813663\n",
      "validation set score: 0.8572999835014343\n",
      "-------------------------------\n",
      "average training loss: 0.35916722378195703\n",
      "train set score: 0.8690000176429749\n",
      "average validation loss: 0.384140710826892\n",
      "validation set score: 0.8664000034332275\n",
      "-------------------------------\n",
      "average training loss: 0.3710361507047168\n",
      "train set score: 0.8676000237464905\n",
      "average validation loss: 0.4281810763155579\n",
      "validation set score: 0.8607000112533569\n",
      "-------------------------------\n",
      "average training loss: 0.3489884051215618\n",
      "train set score: 0.8733000159263611\n",
      "average validation loss: 0.4130371787176011\n",
      "validation set score: 0.8672000169754028\n",
      "-------------------------------\n",
      "average training loss: 0.34927130221863234\n",
      "train set score: 0.8745200037956238\n",
      "average validation loss: 0.38081742500423627\n",
      "validation set score: 0.8705000281333923\n",
      "-------------------------------\n",
      "average training loss: 0.34577591915417205\n",
      "train set score: 0.8780199885368347\n",
      "average validation loss: 0.3789386409483138\n",
      "validation set score: 0.875\n",
      "-------------------------------\n",
      "average training loss: 0.3426254008232099\n",
      "train set score: 0.8777599930763245\n",
      "average validation loss: 0.44809562945441833\n",
      "validation set score: 0.8640000224113464\n",
      "-------------------------------\n",
      "average training loss: 0.34343420731289614\n",
      "train set score: 0.8792799711227417\n",
      "average validation loss: 0.3891448181146269\n",
      "validation set score: 0.8754000067710876\n",
      "-------------------------------\n",
      "average training loss: 0.33115111896410926\n",
      "train set score: 0.8816999793052673\n",
      "average validation loss: 0.4052505934978746\n",
      "validation set score: 0.8781999945640564\n",
      "-------------------------------\n",
      "average training loss: 0.33480588192372673\n",
      "train set score: 0.8816999793052673\n",
      "average validation loss: 0.4846100941964775\n",
      "validation set score: 0.857200026512146\n",
      "-------------------------------\n",
      "average training loss: 0.3444225504575178\n",
      "train set score: 0.8816999793052673\n",
      "average validation loss: 0.3697600080898613\n",
      "validation set score: 0.883899986743927\n",
      "-------------------------------\n",
      "average training loss: 0.3241694344736426\n",
      "train set score: 0.8863000273704529\n",
      "average validation loss: 0.4617882865439555\n",
      "validation set score: 0.8565999865531921\n",
      "-------------------------------\n",
      "average training loss: 0.3232782805038383\n",
      "train set score: 0.8877400159835815\n",
      "average validation loss: 0.3999995886330392\n",
      "validation set score: 0.8783000111579895\n",
      "-------------------------------\n",
      "average training loss: 0.31695543203855414\n",
      "train set score: 0.8881000280380249\n",
      "average validation loss: 0.5391883879520332\n",
      "validation set score: 0.858299970626831\n",
      "-------------------------------\n",
      "average training loss: 0.31790608997978365\n",
      "train set score: 0.8902199864387512\n",
      "average validation loss: 0.45513660674262196\n",
      "validation set score: 0.859000027179718\n",
      "-------------------------------\n",
      "average training loss: 0.3151325353747591\n",
      "train set score: 0.8889600038528442\n",
      "average validation loss: 0.5029321327141136\n",
      "validation set score: 0.8628000020980835\n",
      "-------------------------------\n",
      "average training loss: 0.3069407907135956\n",
      "train set score: 0.8912000060081482\n",
      "average validation loss: 0.4399055311349547\n",
      "validation set score: 0.8851000070571899\n",
      "-------------------------------\n",
      "average training loss: 0.3078564771872652\n",
      "train set score: 0.8906400203704834\n",
      "average validation loss: 0.5018280215893581\n",
      "validation set score: 0.8687999844551086\n",
      "-------------------------------\n",
      "average training loss: 0.3193651149501962\n",
      "train set score: 0.8881800174713135\n",
      "average validation loss: 0.4522215815106775\n",
      "validation set score: 0.8833000063896179\n",
      "-------------------------------\n",
      "average training loss: 0.3096185967021281\n",
      "train set score: 0.8922600150108337\n",
      "average validation loss: 0.5168034516417297\n",
      "validation set score: 0.8668000102043152\n",
      "-------------------------------\n",
      "average training loss: 0.30035639914405315\n",
      "train set score: 0.8953800201416016\n",
      "average validation loss: 0.4936789665727099\n",
      "validation set score: 0.8810999989509583\n",
      "-------------------------------\n",
      "average training loss: 0.2970934961934376\n",
      "train set score: 0.8979799747467041\n",
      "average validation loss: 0.49621586169406867\n",
      "validation set score: 0.8802000284194946\n",
      "-------------------------------\n",
      "average training loss: 0.34148057040465457\n",
      "train set score: 0.8924400210380554\n",
      "average validation loss: 0.4590073200832507\n",
      "validation set score: 0.8851000070571899\n",
      "-------------------------------\n",
      "average training loss: 0.29428483909734376\n",
      "train set score: 0.8992800116539001\n",
      "average validation loss: 0.591007370335661\n",
      "validation set score: 0.8655999898910522\n",
      "-------------------------------\n",
      "average training loss: 0.31970188290338075\n",
      "train set score: 0.8933799862861633\n",
      "average validation loss: 0.5851681653386468\n",
      "validation set score: 0.8795999884605408\n",
      "-------------------------------\n",
      "average training loss: 0.34528576061987054\n",
      "train set score: 0.8899999856948853\n",
      "average validation loss: 0.6550413372030683\n",
      "validation set score: 0.8672999739646912\n",
      "-------------------------------\n",
      "average training loss: 0.2950107443534657\n",
      "train set score: 0.8981000185012817\n",
      "average validation loss: 0.6832265501758855\n",
      "validation set score: 0.8838000297546387\n",
      "-------------------------------\n",
      "average training loss: 0.2755096389214172\n",
      "train set score: 0.9025599956512451\n",
      "average validation loss: 0.7856385795174131\n",
      "validation set score: 0.8841999769210815\n",
      "-------------------------------\n",
      "average training loss: 0.2941674041988142\n",
      "train set score: 0.9007400274276733\n",
      "average validation loss: 0.839948258677106\n",
      "validation set score: 0.8726999759674072\n",
      "-------------------------------\n",
      "average training loss: 0.2849916150255124\n",
      "train set score: 0.9034199714660645\n",
      "average validation loss: 0.86522569151441\n",
      "validation set score: 0.8648999929428101\n",
      "-------------------------------\n",
      "average training loss: 0.307625251953178\n",
      "train set score: 0.8984799981117249\n",
      "average validation loss: 0.560145479336286\n",
      "validation set score: 0.8816999793052673\n",
      "-------------------------------\n",
      "average training loss: 0.27983031682003184\n",
      "train set score: 0.9023799896240234\n",
      "average validation loss: 0.5643937952199559\n",
      "validation set score: 0.887499988079071\n",
      "-------------------------------\n",
      "average training loss: 0.2822310726498932\n",
      "train set score: 0.901639997959137\n",
      "average validation loss: 0.5873332224833737\n",
      "validation set score: 0.8794999718666077\n",
      "-------------------------------\n",
      "average training loss: 0.2976997593594024\n",
      "train set score: 0.9003000259399414\n",
      "average validation loss: 0.6051850868448331\n",
      "validation set score: 0.8726000189781189\n",
      "-------------------------------\n",
      "average training loss: 0.2792365320474672\n",
      "train set score: 0.9047799706459045\n",
      "average validation loss: 0.7053508372253673\n",
      "validation set score: 0.8894000053405762\n",
      "-------------------------------\n",
      "average training loss: 0.27092841670126716\n",
      "train set score: 0.9065600037574768\n",
      "average validation loss: 0.7814063409900969\n",
      "validation set score: 0.8676000237464905\n",
      "-------------------------------\n",
      "average training loss: 0.3142870031916501\n",
      "train set score: 0.9009000062942505\n",
      "average validation loss: 0.9492979155983895\n",
      "validation set score: 0.8500999808311462\n",
      "-------------------------------\n",
      "average training loss: 0.29331620589679924\n",
      "train set score: 0.9042199850082397\n",
      "average validation loss: 0.7702292707410587\n",
      "validation set score: 0.8799999952316284\n",
      "-------------------------------\n",
      "average training loss: 0.2950553863697573\n",
      "train set score: 0.9021199941635132\n",
      "average validation loss: 0.8441621261607309\n",
      "validation set score: 0.8812999725341797\n",
      "-------------------------------\n",
      "average training loss: 0.28768750900864754\n",
      "train set score: 0.9042999744415283\n",
      "average validation loss: 0.7032550779307724\n",
      "validation set score: 0.8672999739646912\n",
      "-------------------------------\n",
      "average training loss: 0.27465094284861896\n",
      "train set score: 0.9058600068092346\n",
      "average validation loss: 0.8917798892517758\n",
      "validation set score: 0.8737999796867371\n",
      "-------------------------------\n",
      "average training loss: 0.265073464787982\n",
      "train set score: 0.9094799757003784\n",
      "average validation loss: 1.00626632704097\n",
      "validation set score: 0.8646000027656555\n",
      "-------------------------------\n",
      "average training loss: 0.27665213211094175\n",
      "train set score: 0.9068599939346313\n",
      "average validation loss: 1.0222821703097622\n",
      "validation set score: 0.8802000284194946\n",
      "-------------------------------\n",
      "average training loss: 0.27472083442761086\n",
      "train set score: 0.9085000157356262\n",
      "average validation loss: 1.1409072148951755\n",
      "validation set score: 0.8781999945640564\n",
      "-------------------------------\n",
      "average training loss: 0.30745439739693003\n",
      "train set score: 0.8997399806976318\n",
      "average validation loss: 1.0521419117594981\n",
      "validation set score: 0.878600001335144\n",
      "-------------------------------\n",
      "average training loss: 0.2902898934557843\n",
      "train set score: 0.9062399864196777\n",
      "average validation loss: 1.0935100107246143\n",
      "validation set score: 0.8765000104904175\n",
      "-------------------------------\n",
      "Time taken: 110.13 seconds\n"
     ]
    }
   ],
   "source": [
    "# training\n",
    "device ='cpu'\n",
    "metric = torchmetrics.Accuracy(task='multiclass', num_classes=10)\n",
    "model = LeakyBaselineFCNN().to(device)\n",
    "loss_fn = torch.nn.CrossEntropyLoss()\n",
    "optimizer = torch.optim.Adam(model.parameters(), lr=.001)\n",
    "metric = torchmetrics.Accuracy(task='multiclass', num_classes=10).to(device)\n",
    "\n",
    "summary = train_validate_iteration(\n",
    "    train_dataloader=train_dataloader,\n",
    "    val_dataloader=val_dataloader,\n",
    "    num_epochs=50,\n",
    "    model=model,\n",
    "    optimizer=optimizer,\n",
    "    loss_fn=loss_fn,\n",
    "    metric=metric,\n",
    "    device=device\n",
    ")"
   ]
  },
  {
   "cell_type": "code",
   "execution_count": 23,
   "metadata": {},
   "outputs": [
    {
     "data": {
      "image/png": "[encoded data removed]",
      "text/plain": [
       "<Figure size 640x480 with 1 Axes>"
      ]
     },
     "metadata": {},
     "output_type": "display_data"
    }
   ],
   "source": [
    "plt.plot(summary['train_loss'], color='skyblue', label='train loss')\n",
    "plt.plot(summary['val_loss'], color='red', label='validation loss')\n",
    "plt.xlabel('Epoch')\n",
    "plt.legend()\n",
    "plt.show()"
   ]
  },
  {
   "cell_type": "code",
   "execution_count": 24,
   "metadata": {},
   "outputs": [
    {
     "data": {
      "image/png": "[encoded data removed]",
      "text/plain": [
       "<Figure size 640x480 with 1 Axes>"
      ]
     },
     "metadata": {},
     "output_type": "display_data"
    }
   ],
   "source": [
    "plt.plot(summary['train_score'], color='skyblue', label='train accuracy')\n",
    "plt.plot(summary['val_score'], color='red', label='validation accuracy')\n",
    "plt.xlabel('Epoch')\n",
    "plt.legend()\n",
    "plt.show()"
   ]
  },
  {
   "cell_type": "code",
   "execution_count": 25,
   "metadata": {},
   "outputs": [
    {
     "name": "stdout",
     "output_type": "stream",
     "text": [
      "         class  precision  recall  f1-score  support\n",
      "0  T-shirt/top   0.841772   0.798  0.819302     1000\n",
      "1      Trouser   0.985700   0.965  0.975240     1000\n",
      "2     Pullover   0.660420   0.881  0.754927     1000\n",
      "3        Dress   0.808399   0.924  0.862343     1000\n",
      "4         Coat   0.855769   0.623  0.721065     1000\n",
      "5       Sandal   0.973442   0.953  0.963113     1000\n",
      "6        Shirt   0.711883   0.635  0.671247     1000\n",
      "7      Sneaker   0.946885   0.927  0.936837     1000\n",
      "8          Bag   0.978328   0.948  0.962925     1000\n",
      "9   Ankle Boot   0.920877   0.966  0.942899     1000\n",
      "--------------------------------------------------\n",
      "Overall accuracy: 0.862\n",
      "Macro average precision: 0.868, Recall: 0.862, F1: 0.861\n",
      "Weighted average precision: 0.868, Recall: 0.862, F1: 0.861\n"
     ]
    }
   ],
   "source": [
    "metrics_across_classes(test_dataloader, model, device, classes)"
   ]
  },
  {
   "cell_type": "markdown",
   "metadata": {},
   "source": [
    "# 5. Things that did not work out"
   ]
  },
  {
   "cell_type": "markdown",
   "metadata": {},
   "source": [
    "## 5.1. GPU/MPS training"
   ]
  },
  {
   "cell_type": "markdown",
   "metadata": {},
   "source": [
    "### Slow training"
   ]
  },
  {
   "cell_type": "markdown",
   "metadata": {},
   "source": [
    "I used timeit to test the training time of the model (5 epoches) with different number of workers on my CPU as well as MPS (the cuda equivalent on macbook). However, using more workers or MPS actually slows down the training. This delay might be caused by data loading overhead. \n",
    "\n",
    "The model training on GPU usually is quicker than CPU, when the batch size is very high and entail large number of parameters, as GPU has a huge number of cores and can handle parallel processing better. \n",
    "\n",
    "However, when training small models, the process of moving data from cpu to gpu slows down the model training. The amount of time spent on moving data might already be enough for training model directly on CPU. "
   ]
  },
  {
   "cell_type": "markdown",
   "metadata": {},
   "source": [
    "The code below demonstrate how MPS training could be slow."
   ]
  },
  {
   "cell_type": "markdown",
   "metadata": {},
   "source": [
    "**Note: Bugs on MPS training: Gradient Descent Update**\n",
    "- Sometimes, the model parameters may not get updated properly when trained on MPS. This seems to be common issue (see link below), and it might be related to the model of my macbook. \n",
    "    - https://discuss.pytorch.org/t/training-doesnt-converge-when-running-on-m1-pro-gpu-mps-device/157918\n",
    "    - https://github.com/pytorch/pytorch/issues/109457"
   ]
  },
  {
   "cell_type": "markdown",
   "metadata": {},
   "source": [
    "The time of training the model using CPU and 0 workers was ~4-6 seconds."
   ]
  },
  {
   "cell_type": "code",
   "execution_count": 26,
   "metadata": {},
   "outputs": [
    {
     "name": "stdout",
     "output_type": "stream",
     "text": [
      "Total number of epochs: 5\n",
      "average training loss: 0.8182439490238114\n",
      "train set score: 0.7954800128936768\n",
      "average validation loss: 0.4685148848280026\n",
      "validation set score: 0.8319000005722046\n",
      "-------------------------------\n",
      "average training loss: 0.4120974893040974\n",
      "train set score: 0.852840006351471\n",
      "average validation loss: 0.42380646668421995\n",
      "validation set score: 0.8468999862670898\n",
      "-------------------------------\n",
      "average training loss: 0.3613273194035911\n",
      "train set score: 0.8692799806594849\n",
      "average validation loss: 0.3951245532104164\n",
      "validation set score: 0.858299970626831\n",
      "-------------------------------\n",
      "average training loss: 0.3296356173065465\n",
      "train set score: 0.8794999718666077\n",
      "average validation loss: 0.39113750285024096\n",
      "validation set score: 0.8615000247955322\n",
      "-------------------------------\n",
      "average training loss: 0.30437763387818473\n",
      "train set score: 0.8884999752044678\n",
      "average validation loss: 0.3526843576484425\n",
      "validation set score: 0.8748000264167786\n",
      "-------------------------------\n",
      "Time taken: 5.56 seconds\n"
     ]
    }
   ],
   "source": [
    "train_dataloader = DataLoader(train_data, batch_size=64, shuffle=True, num_workers=0)\n",
    "val_dataloader = DataLoader(val_data, batch_size=64, shuffle=False)\n",
    "\n",
    "device ='cpu'\n",
    "metric = torchmetrics.Accuracy(task='multiclass', num_classes=10)\n",
    "model = BaselineFCNN().to(device)\n",
    "loss_fn = torch.nn.CrossEntropyLoss()\n",
    "optimizer = torch.optim.SGD(model.parameters(), lr=.001)\n",
    "metric = torchmetrics.Accuracy(task='multiclass', num_classes=10).to(device)\n",
    "\n",
    "summary = train_validate_iteration(\n",
    "    train_dataloader=train_dataloader,\n",
    "    val_dataloader=val_dataloader,\n",
    "    num_epochs=5,\n",
    "    model=model,\n",
    "    optimizer=optimizer,\n",
    "    loss_fn=loss_fn,\n",
    "    metric=metric,\n",
    "    device=device\n",
    ")"
   ]
  },
  {
   "cell_type": "markdown",
   "metadata": {},
   "source": [
    "The average time of training the model using CPU and 2 workers was above 10 seconds."
   ]
  },
  {
   "cell_type": "code",
   "execution_count": 27,
   "metadata": {},
   "outputs": [
    {
     "name": "stdout",
     "output_type": "stream",
     "text": [
      "Total number of epochs: 5\n"
     ]
    },
    {
     "name": "stdout",
     "output_type": "stream",
     "text": [
      "average training loss: 0.7480293259672497\n",
      "train set score: 0.7995399832725525\n",
      "average validation loss: 0.4925302147485648\n",
      "validation set score: 0.823199987411499\n",
      "-------------------------------\n",
      "average training loss: 0.39997039661954736\n",
      "train set score: 0.8571400046348572\n",
      "average validation loss: 0.41366898728783724\n",
      "validation set score: 0.8536999821662903\n",
      "-------------------------------\n",
      "average training loss: 0.3507781895473028\n",
      "train set score: 0.8742200136184692\n",
      "average validation loss: 0.5438536391326576\n",
      "validation set score: 0.8037999868392944\n",
      "-------------------------------\n",
      "average training loss: 0.317375635256624\n",
      "train set score: 0.8829600214958191\n",
      "average validation loss: 0.4262871933970482\n",
      "validation set score: 0.8499000072479248\n",
      "-------------------------------\n",
      "average training loss: 0.2916399671141144\n",
      "train set score: 0.8938199877738953\n",
      "average validation loss: 0.3814084135992512\n",
      "validation set score: 0.8658000230789185\n",
      "-------------------------------\n",
      "Time taken: 13.74 seconds\n"
     ]
    }
   ],
   "source": [
    "train_dataloader = DataLoader(train_data, batch_size=64, shuffle=True, num_workers=2)\n",
    "val_dataloader = DataLoader(val_data, batch_size=64, shuffle=False)\n",
    "\n",
    "device ='cpu'\n",
    "metric = torchmetrics.Accuracy(task='multiclass', num_classes=10)\n",
    "model = BaselineFCNN().to(device)\n",
    "loss_fn = torch.nn.CrossEntropyLoss()\n",
    "optimizer = torch.optim.SGD(model.parameters(), lr=.001)\n",
    "metric = torchmetrics.Accuracy(task='multiclass', num_classes=10).to(device)\n",
    "\n",
    "summary = train_validate_iteration(\n",
    "    train_dataloader=train_dataloader,\n",
    "    val_dataloader=val_dataloader,\n",
    "    num_epochs=5,\n",
    "    model=model,\n",
    "    optimizer=optimizer,\n",
    "    loss_fn=loss_fn,\n",
    "    metric=metric,\n",
    "    device=device\n",
    ")"
   ]
  },
  {
   "cell_type": "markdown",
   "metadata": {},
   "source": [
    "The average time of training the model using MPS and 2 workers was above 25 seconds."
   ]
  },
  {
   "cell_type": "code",
   "execution_count": 28,
   "metadata": {},
   "outputs": [
    {
     "name": "stdout",
     "output_type": "stream",
     "text": [
      "Total number of epochs: 5\n",
      "average training loss: 0.839258673093508\n",
      "train set score: 0.7938399910926819\n",
      "average validation loss: 0.5071059935222006\n",
      "validation set score: 0.8235999941825867\n",
      "-------------------------------\n",
      "average training loss: 0.41028049005114514\n",
      "train set score: 0.8532999753952026\n",
      "average validation loss: 0.4287427997892829\n",
      "validation set score: 0.8468000292778015\n",
      "-------------------------------\n",
      "average training loss: 0.3564125339850745\n",
      "train set score: 0.8710600137710571\n",
      "average validation loss: 0.3948674559783024\n",
      "validation set score: 0.864799976348877\n",
      "-------------------------------\n",
      "average training loss: 0.32495394181412507\n",
      "train set score: 0.8819400072097778\n",
      "average validation loss: 0.47850858026249393\n",
      "validation set score: 0.8355000019073486\n",
      "-------------------------------\n",
      "average training loss: 0.2993864917846592\n",
      "train set score: 0.891759991645813\n",
      "average validation loss: 0.4352693209412751\n",
      "validation set score: 0.8486999869346619\n",
      "-------------------------------\n",
      "Time taken: 34.26 seconds\n"
     ]
    }
   ],
   "source": [
    "train_dataloader = DataLoader(train_data, batch_size=64, shuffle=True, num_workers=2)\n",
    "val_dataloader = DataLoader(val_data, batch_size=64, shuffle=False)\n",
    "\n",
    "device ='mps'\n",
    "metric = torchmetrics.Accuracy(task='multiclass', num_classes=10)\n",
    "model = BaselineFCNN().to(device)\n",
    "loss_fn = torch.nn.CrossEntropyLoss()\n",
    "optimizer = torch.optim.SGD(model.parameters(), lr=.001)\n",
    "metric = torchmetrics.Accuracy(task='multiclass', num_classes=10).to(device)\n",
    "\n",
    "summary = train_validate_iteration(\n",
    "    train_dataloader=train_dataloader,\n",
    "    val_dataloader=val_dataloader,\n",
    "    num_epochs=5,\n",
    "    model=model,\n",
    "    optimizer=optimizer,\n",
    "    loss_fn=loss_fn,\n",
    "    metric=metric,\n",
    "    device=device\n",
    ")"
   ]
  },
  {
   "cell_type": "markdown",
   "metadata": {},
   "source": [
    "## 5.2. Softmax & Vanishing gradients"
   ]
  },
  {
   "cell_type": "markdown",
   "metadata": {},
   "source": [
    "I originally used the softmax function as the last activation function for the output layer, while [the tutorial](https://pytorch.org/tutorials/beginner/basics/quickstart_tutorial.html) used no activation function for the output layer. Please note that I used cross-entropy loss as the loss function.\n",
    "\n",
    "As the softmax activation function transforms the raw outputs of the neural network into a vector of probabilities for the input classes, I thought using it would help to improve the model performance. \n",
    "\n",
    "However, I found out that the softmax function slows down the model training, namely its performance sometimes get stuck before improvement. See the graph below. Hence, I decided to discard this activation function in the end.\n",
    "\n",
    "After consulting some online tutorials, I found that Softmax function has vanishing gradient problems, which I am not sure if I understand completely. "
   ]
  },
  {
   "cell_type": "markdown",
   "metadata": {},
   "source": [
    "Reference:\n",
    "- This [online post](https://datascience.stackexchange.com/questions/114725/linear-regression-in-pytorch-vanishing-gradient-with-softmax) says that Softmax is the multiclass version of Cross-Entropy Loss, which is known to have vanishing gradient problems."
   ]
  },
  {
   "cell_type": "code",
   "execution_count": 29,
   "metadata": {},
   "outputs": [],
   "source": [
    "# Define model with softmax function\n",
    "n_feature = 28 * 28 # set n_feature = n_pixel, as the image has 28x28 pixels \n",
    "n_labels = len(classes) # number of output feature, fed into Softmax\n",
    "\n",
    "class SoftmaxBaselineFCNN(nn.Module):\n",
    "    def __init__(self):\n",
    "        super().__init__()\n",
    "        self.flatten = nn.Flatten()\n",
    "        self.fc1 = nn.Linear(n_feature, 512)\n",
    "        self.fc2 = nn.Linear(512, 512)\n",
    "        self.fc3 = nn.Linear(512, n_labels)\n",
    "        # Softmax normalizes the output to a probability distribution over predicted classes\n",
    "        self.softmax = nn.Softmax(dim=-1) # dim set to -1, as it is the last layer\n",
    "\n",
    "    def forward(self, x):\n",
    "        x = self.flatten(x)  # Flatten the input data\n",
    "        x = nn.functional.relu(self.fc1(x)) # Set Relu activation funciton\n",
    "        x = nn.functional.relu(self.fc2(x)) # Set Relu activation funciton\n",
    "        x = self.fc3(x)\n",
    "        x = self.softmax(x) \n",
    "        return x"
   ]
  },
  {
   "cell_type": "code",
   "execution_count": 30,
   "metadata": {},
   "outputs": [],
   "source": [
    "# Data Loading\n",
    "from torch.utils.data import DataLoader\n",
    "train_dataloader = DataLoader(train_data, batch_size=64, shuffle=True, num_workers=0)\n",
    "val_dataloader = DataLoader(val_data, batch_size=64, shuffle=False)"
   ]
  },
  {
   "cell_type": "code",
   "execution_count": 31,
   "metadata": {},
   "outputs": [
    {
     "name": "stdout",
     "output_type": "stream",
     "text": [
      "Total number of epochs: 50\n",
      "average training loss: 2.124413303706957\n",
      "train set score: 0.33410000801086426\n",
      "average validation loss: 2.10925506102811\n",
      "validation set score: 0.35010001063346863\n",
      "-------------------------------\n",
      "average training loss: 2.0962536405114567\n",
      "train set score: 0.3627600073814392\n",
      "average validation loss: 2.032752893532917\n",
      "validation set score: 0.4287000000476837\n",
      "-------------------------------\n",
      "average training loss: 2.025619221770245\n",
      "train set score: 0.4341599941253662\n",
      "average validation loss: 2.0217052204593733\n",
      "validation set score: 0.43779999017715454\n",
      "-------------------------------\n",
      "average training loss: 2.018724355551288\n",
      "train set score: 0.44106000661849976\n",
      "average validation loss: 2.01926956890495\n",
      "validation set score: 0.44040000438690186\n",
      "-------------------------------\n",
      "average training loss: 2.014769860393251\n",
      "train set score: 0.44506001472473145\n",
      "average validation loss: 2.0232732159316917\n",
      "validation set score: 0.4372999966144562\n",
      "-------------------------------\n",
      "average training loss: 2.0119434401507266\n",
      "train set score: 0.44797998666763306\n",
      "average validation loss: 2.014030855172759\n",
      "validation set score: 0.445499986410141\n",
      "-------------------------------\n",
      "average training loss: 2.0102761185077753\n",
      "train set score: 0.449319988489151\n",
      "average validation loss: 2.019462012181616\n",
      "validation set score: 0.4399999976158142\n",
      "-------------------------------\n",
      "average training loss: 2.008034001378452\n",
      "train set score: 0.4517799913883209\n",
      "average validation loss: 2.0129998208610873\n",
      "validation set score: 0.44589999318122864\n",
      "-------------------------------\n",
      "average training loss: 2.0062064345535413\n",
      "train set score: 0.45302000641822815\n",
      "average validation loss: 2.0119930407044233\n",
      "validation set score: 0.4478999972343445\n",
      "-------------------------------\n",
      "average training loss: 2.0055347542323725\n",
      "train set score: 0.4540799856185913\n",
      "average validation loss: 2.0102711323719875\n",
      "validation set score: 0.44929999113082886\n",
      "-------------------------------\n",
      "average training loss: 2.0041320595290046\n",
      "train set score: 0.4549599885940552\n",
      "average validation loss: 2.0165077614936098\n",
      "validation set score: 0.4426000118255615\n",
      "-------------------------------\n",
      "average training loss: 2.002594165637365\n",
      "train set score: 0.45660001039505005\n",
      "average validation loss: 2.0139811281945295\n",
      "validation set score: 0.44440001249313354\n",
      "-------------------------------\n",
      "average training loss: 2.00147920542056\n",
      "train set score: 0.45750001072883606\n",
      "average validation loss: 2.009730960912765\n",
      "validation set score: 0.44940000772476196\n",
      "-------------------------------\n",
      "average training loss: 2.0007691535803365\n",
      "train set score: 0.4581199884414673\n",
      "average validation loss: 2.006808464694175\n",
      "validation set score: 0.4519999921321869\n",
      "-------------------------------\n",
      "average training loss: 1.999162155801378\n",
      "train set score: 0.4594799876213074\n",
      "average validation loss: 2.0213509334880078\n",
      "validation set score: 0.43720000982284546\n",
      "-------------------------------\n",
      "average training loss: 1.9986814691892365\n",
      "train set score: 0.4601399898529053\n",
      "average validation loss: 2.008159197060166\n",
      "validation set score: 0.45100000500679016\n",
      "-------------------------------\n",
      "average training loss: 1.998085289812454\n",
      "train set score: 0.460099995136261\n",
      "average validation loss: 2.004724093303559\n",
      "validation set score: 0.45339998602867126\n",
      "-------------------------------\n",
      "average training loss: 1.9967344936812321\n",
      "train set score: 0.46182000637054443\n",
      "average validation loss: 2.005389422368092\n",
      "validation set score: 0.4526999890804291\n",
      "-------------------------------\n",
      "average training loss: 1.9956521248573538\n",
      "train set score: 0.46272000670433044\n",
      "average validation loss: 2.004893905797582\n",
      "validation set score: 0.4535999894142151\n",
      "-------------------------------\n",
      "average training loss: 1.9953596433410254\n",
      "train set score: 0.46338000893592834\n",
      "average validation loss: 2.0064929526322968\n",
      "validation set score: 0.453000009059906\n",
      "-------------------------------\n",
      "average training loss: 1.9948146343231201\n",
      "train set score: 0.46320000290870667\n",
      "average validation loss: 2.0058825653829393\n",
      "validation set score: 0.4521999955177307\n",
      "-------------------------------\n",
      "average training loss: 1.993883775780573\n",
      "train set score: 0.4644800126552582\n",
      "average validation loss: 2.0099205705010967\n",
      "validation set score: 0.44780001044273376\n",
      "-------------------------------\n",
      "average training loss: 1.9929495456883364\n",
      "train set score: 0.46494001150131226\n",
      "average validation loss: 2.0059960260512724\n",
      "validation set score: 0.45260000228881836\n",
      "-------------------------------\n",
      "average training loss: 1.992332526027699\n",
      "train set score: 0.4657999873161316\n",
      "average validation loss: 2.003139043309886\n",
      "validation set score: 0.45410001277923584\n",
      "-------------------------------\n",
      "average training loss: 1.9918980241736488\n",
      "train set score: 0.4659000039100647\n",
      "average validation loss: 2.0043606249390136\n",
      "validation set score: 0.45339998602867126\n",
      "-------------------------------\n",
      "average training loss: 1.990818415761299\n",
      "train set score: 0.4668999910354614\n",
      "average validation loss: 2.0033389109714776\n",
      "validation set score: 0.4544000029563904\n",
      "-------------------------------\n",
      "average training loss: 1.9905730278595635\n",
      "train set score: 0.4670799970626831\n",
      "average validation loss: 2.0030384154836085\n",
      "validation set score: 0.4551999866962433\n",
      "-------------------------------\n",
      "average training loss: 1.9899669149342705\n",
      "train set score: 0.4677000045776367\n",
      "average validation loss: 2.0044184224620745\n",
      "validation set score: 0.4537000060081482\n",
      "-------------------------------\n",
      "average training loss: 1.9894246125160275\n",
      "train set score: 0.4680800139904022\n",
      "average validation loss: 2.0021817456385134\n",
      "validation set score: 0.4553000032901764\n",
      "-------------------------------\n",
      "average training loss: 1.9891491180185772\n",
      "train set score: 0.4683600068092346\n",
      "average validation loss: 2.0019453634881668\n",
      "validation set score: 0.4553000032901764\n",
      "-------------------------------\n",
      "average training loss: 1.9882932393752095\n",
      "train set score: 0.4688200056552887\n",
      "average validation loss: 2.0024572329916013\n",
      "validation set score: 0.45590001344680786\n",
      "-------------------------------\n",
      "average training loss: 1.9878624961199358\n",
      "train set score: 0.46974000334739685\n",
      "average validation loss: 2.00176943411493\n",
      "validation set score: 0.4553000032901764\n",
      "-------------------------------\n",
      "average training loss: 1.987277503208736\n",
      "train set score: 0.47012001276016235\n",
      "average validation loss: 2.0021236618612983\n",
      "validation set score: 0.4546000063419342\n",
      "-------------------------------\n",
      "average training loss: 1.986844591777343\n",
      "train set score: 0.47005999088287354\n",
      "average validation loss: 2.002646910157173\n",
      "validation set score: 0.4542999863624573\n",
      "-------------------------------\n",
      "average training loss: 1.9866811485241747\n",
      "train set score: 0.4706200063228607\n",
      "average validation loss: 2.002024319521181\n",
      "validation set score: 0.45489999651908875\n",
      "-------------------------------\n",
      "average training loss: 1.9864208626625177\n",
      "train set score: 0.4706999957561493\n",
      "average validation loss: 2.0028407922975577\n",
      "validation set score: 0.45410001277923584\n",
      "-------------------------------\n",
      "average training loss: 1.985911099807076\n",
      "train set score: 0.47088000178337097\n",
      "average validation loss: 2.001083389209334\n",
      "validation set score: 0.45570001006126404\n",
      "-------------------------------\n",
      "average training loss: 1.9853720698515167\n",
      "train set score: 0.47176000475883484\n",
      "average validation loss: 2.0016666202788143\n",
      "validation set score: 0.45419999957084656\n",
      "-------------------------------\n",
      "average training loss: 1.9847306092376904\n",
      "train set score: 0.47200000286102295\n",
      "average validation loss: 2.000852496760666\n",
      "validation set score: 0.4555000066757202\n",
      "-------------------------------\n",
      "average training loss: 1.984608268646328\n",
      "train set score: 0.47224000096321106\n",
      "average validation loss: 2.00688725292303\n",
      "validation set score: 0.45080000162124634\n",
      "-------------------------------\n",
      "average training loss: 1.9838348134704258\n",
      "train set score: 0.4728800058364868\n",
      "average validation loss: 2.0017083814948986\n",
      "validation set score: 0.454800009727478\n",
      "-------------------------------\n",
      "average training loss: 1.983855410457572\n",
      "train set score: 0.4726400077342987\n",
      "average validation loss: 2.0017686338181706\n",
      "validation set score: 0.4546000063419342\n",
      "-------------------------------\n",
      "average training loss: 1.9829671070398882\n",
      "train set score: 0.47336000204086304\n",
      "average validation loss: 2.0023179980599957\n",
      "validation set score: 0.4528999924659729\n",
      "-------------------------------\n",
      "average training loss: 1.9832311100362208\n",
      "train set score: 0.47304001450538635\n",
      "average validation loss: 2.0000813903322645\n",
      "validation set score: 0.4551999866962433\n",
      "-------------------------------\n",
      "average training loss: 1.9824410957448624\n",
      "train set score: 0.47374001145362854\n",
      "average validation loss: 2.0021346177265142\n",
      "validation set score: 0.4546000063419342\n",
      "-------------------------------\n",
      "average training loss: 1.982036010383645\n",
      "train set score: 0.4737800061702728\n",
      "average validation loss: 2.00259586732099\n",
      "validation set score: 0.4544999897480011\n",
      "-------------------------------\n",
      "average training loss: 1.9819285610447759\n",
      "train set score: 0.47407999634742737\n",
      "average validation loss: 2.0006036743236955\n",
      "validation set score: 0.45489999651908875\n",
      "-------------------------------\n",
      "average training loss: 1.9811309993724384\n",
      "train set score: 0.4746200144290924\n",
      "average validation loss: 2.0006187577156505\n",
      "validation set score: 0.45509999990463257\n",
      "-------------------------------\n",
      "average training loss: 1.9807425745003058\n",
      "train set score: 0.47519999742507935\n",
      "average validation loss: 2.007379449856509\n",
      "validation set score: 0.4496000111103058\n",
      "-------------------------------\n",
      "average training loss: 1.9804941167307022\n",
      "train set score: 0.4750399887561798\n",
      "average validation loss: 1.999767527458774\n",
      "validation set score: 0.4553000032901764\n",
      "-------------------------------\n",
      "Time taken: 54.94 seconds\n"
     ]
    }
   ],
   "source": [
    "# training\n",
    "device ='cpu'\n",
    "metric = torchmetrics.Accuracy(task='multiclass', num_classes=10)\n",
    "model = SoftmaxBaselineFCNN().to(device)\n",
    "loss_fn = torch.nn.CrossEntropyLoss()\n",
    "optimizer = torch.optim.SGD(model.parameters(), lr=.001)\n",
    "metric = torchmetrics.Accuracy(task='multiclass', num_classes=10).to(device)\n",
    "\n",
    "summary = train_validate_iteration(\n",
    "    train_dataloader=train_dataloader,\n",
    "    val_dataloader=val_dataloader,\n",
    "    num_epochs=50,\n",
    "    model=model,\n",
    "    optimizer=optimizer,\n",
    "    loss_fn=loss_fn,\n",
    "    metric=metric,\n",
    "    device=device\n",
    ")"
   ]
  },
  {
   "cell_type": "code",
   "execution_count": 32,
   "metadata": {},
   "outputs": [
    {
     "data": {
      "image/png": "[encoded data removed]",
      "text/plain": [
       "<Figure size 640x480 with 1 Axes>"
      ]
     },
     "metadata": {},
     "output_type": "display_data"
    }
   ],
   "source": [
    "plt.plot(summary['train_loss'], color='skyblue', label='train loss')\n",
    "plt.plot(summary['val_loss'], color='red', label='validation loss')\n",
    "plt.xlabel('Epoch')\n",
    "plt.legend()\n",
    "plt.show()"
   ]
  },
  {
   "cell_type": "code",
   "execution_count": 33,
   "metadata": {},
   "outputs": [
    {
     "data": {
      "image/png": "[encoded data removed]",
      "text/plain": [
       "<Figure size 640x480 with 1 Axes>"
      ]
     },
     "metadata": {},
     "output_type": "display_data"
    }
   ],
   "source": [
    "plt.plot(summary['train_score'], color='skyblue', label='train accuracy')\n",
    "plt.plot(summary['val_score'], color='red', label='validation accuracy')\n",
    "plt.xlabel('Epoch')\n",
    "plt.legend()\n",
    "plt.show()"
   ]
  },
  {
   "cell_type": "markdown",
   "metadata": {},
   "source": [
    "# References"
   ]
  },
  {
   "cell_type": "markdown",
   "metadata": {},
   "source": [
    "- https://pytorch.org/tutorials/beginner/introyt/trainingyt.html?highlight=nn%20crossentropyloss\n",
    "- https://www.kaggle.com/code/pankajj/fashion-mnist-with-pytorch-93-accuracy\n",
    "- https://machinelearningspace.com/creating-custom-dataset-class-in-pytorch/#custom\n",
    "- https://pytorch.org/tutorials/beginner/basics/quickstart_tutorial.html\n",
    "- https://discuss.pytorch.org/t/whats-the-difference-between-nn-relu-vs-f-relu/27599\n",
    "- https://discuss.pytorch.org/t/training-doesnt-converge-when-running-on-m1-pro-gpu-mps-device/157918\n",
    "- https://github.com/pytorch/pytorch/issues/109457"
   ]
  }
 ],
 "metadata": {
  "kernelspec": {
   "display_name": "base",
   "language": "python",
   "name": "python3"
  },
  "language_info": {
   "codemirror_mode": {
    "name": "ipython",
    "version": 3
   },
   "file_extension": ".py",
   "mimetype": "text/x-python",
   "name": "python",
   "nbconvert_exporter": "python",
   "pygments_lexer": "ipython3",
   "version": "3.11.5"
  }
 },
 "nbformat": 4,
 "nbformat_minor": 2
}
