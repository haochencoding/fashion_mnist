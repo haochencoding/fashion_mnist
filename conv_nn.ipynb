{
 "cells": [
  {
   "cell_type": "markdown",
   "metadata": {},
   "source": [
    "# Table of Contents"
   ]
  },
  {
   "cell_type": "markdown",
   "metadata": {},
   "source": [
    "- [1. Introduction](#1.-Introduction)\n",
    "- [2. Load Data](#2.-Load-Data)\n",
    "- [3. LeNet-5](#3.-LeNet-5)\n",
    "  - [3.1. LeNet-5 Original](#3.1.-LeNet-5-Original)\n",
    "  - [3.2. LeNet-5 Modern](#3.2.-LeNet-5-Modern)\n",
    "- [4. AlexNet](#4.-AlexNet)\n",
    "- [5. VGG Net](#5.-VGG-Net)\n",
    "- [6. Conclusion](#6.-Conclusion)"
   ]
  },
  {
   "cell_type": "markdown",
   "metadata": {},
   "source": [
    "# 1. Introduction"
   ]
  },
  {
   "cell_type": "markdown",
   "metadata": {},
   "source": [
    "This notebook is part of Hao Chen's deep learning project for LPI Artificial intelligence (2023-2023). This project builds a fully connected neural network and a convolutional neural network for FashionMNIST dataset. This notebook contains the code for CNN models. "
   ]
  },
  {
   "cell_type": "markdown",
   "metadata": {},
   "source": [
    "This notebook implemented CNN models inspired by these three classic architectures, the LeNet, the AlexNet, and the VGG net. My knowlege on CNNs and these architectures comes from Andrew Ng's [YouTube course on convolutional neural networks](https://www.youtube.com/watch?v=ArPaAX_PhIs&list=PLkDaE6sCZn6Gl29AoE31iwdVwSG-KnDzF)."
   ]
  },
  {
   "cell_type": "markdown",
   "metadata": {},
   "source": [
    "**LeNet-5**\n",
    "- Original version\n",
    "    - I replicated the original LeNet-5 by using Tanh activation, average pooling, and softmax activation at the output layer.\n",
    "    - It achieved around ~0.88 accuracy on test set after 25 training epochs.\n",
    "- Modern improved version\n",
    "    - I improvode the LeNet-5 model by using more modern conventions, e.g., ReLU activation, max pooling, and softmax activation at the output layer.\n",
    "    - It achieved similar around ~0.88 accuracy on test set after 25 training epochs."
   ]
  },
  {
   "cell_type": "markdown",
   "metadata": {},
   "source": [
    "**AlexNet**\n",
    "- I built a CNN with simplified architecture from AlexNet, i.e., by using strides and max pooling layers. \n",
    "- I trained the network on MPS (the Macbook equivalent of cuda) to speed up training.\n",
    "- The model achieved ~0.88-0.90 accuracy on test set after 25 training epochs."
   ]
  },
  {
   "cell_type": "markdown",
   "metadata": {},
   "source": [
    "**VGG Net**\n",
    "- I also build a CNN with arhitecture inspired by VGG.\n",
    "- The parameters and arhictecture of this model come from [Keras tutorial](https://pyimagesearch.com/2019/02/11/fashion-mnist-with-keras-and-deep-learning/#:~:text=The%20Fashion%20MNIST%20dataset,-Figure%201%3A%20The&text=It's%20far%20too%20easy%20for,to%20achieve%2099%25%2B%20accuracy).\n",
    "- The model achieved ~0.92-0.93 accuracy on test set after 25 training epochs on MPS."
   ]
  },
  {
   "cell_type": "markdown",
   "metadata": {},
   "source": [
    "## 1.1. Check environment"
   ]
  },
  {
   "cell_type": "code",
   "execution_count": 14,
   "metadata": {},
   "outputs": [
    {
     "name": "stdout",
     "output_type": "stream",
     "text": [
      "Python version: 3.11.5\n",
      "PyTorch version: 2.1.2\n",
      "Cuda Availablility: False\n",
      "Metal Performance Shaders (MPS) Availablility: True\n"
     ]
    }
   ],
   "source": [
    "import torch\n",
    "from platform import python_version\n",
    "\n",
    "# Report the versions of overall environment \n",
    "print(f'Python version: {python_version()}')\n",
    "print(f'PyTorch version: {torch.__version__}')\n",
    "\n",
    "# Report the availability or GPU and MPS training \n",
    "cuda_available = torch.cuda.is_available()\n",
    "mps_available = torch.backends.mps.is_available()\n",
    "\n",
    "print(f'Cuda Availablility: {cuda_available}')\n",
    "print(f'Metal Performance Shaders (MPS) Availablility: {mps_available}')"
   ]
  },
  {
   "cell_type": "markdown",
   "metadata": {},
   "source": [
    "# 2. Load Data"
   ]
  },
  {
   "cell_type": "markdown",
   "metadata": {},
   "source": [
    "## 2.1. Load downloaded data using customised function"
   ]
  },
  {
   "cell_type": "code",
   "execution_count": 15,
   "metadata": {},
   "outputs": [
    {
     "name": "stdout",
     "output_type": "stream",
     "text": [
      "Imported file: ./data/FashionMNIST/raw/train-images-idx3-ubyte\n",
      "Data type: images; Data shape: (60000, 28, 28)\n",
      "Imported file: ./data/FashionMNIST/raw/train-labels-idx1-ubyte\n",
      "Data type: labels; Data shape: (60000,)\n",
      "Imported file: ./data/FashionMNIST/raw/t10k-images-idx3-ubyte\n",
      "Data type: images; Data shape: (10000, 28, 28)\n",
      "Imported file: ./data/FashionMNIST/raw/t10k-labels-idx1-ubyte\n",
      "Data type: labels; Data shape: (10000,)\n"
     ]
    }
   ],
   "source": [
    "import numpy as np\n",
    "from utils.dataset import import_data\n",
    "\n",
    "# Set data path\n",
    "train_label_path = './data/FashionMNIST/raw/train-labels-idx1-ubyte'\n",
    "train_images_path = './data/FashionMNIST/raw/train-images-idx3-ubyte'\n",
    "test_label_path = './data/FashionMNIST/raw/t10k-labels-idx1-ubyte'\n",
    "test_images_path = './data/FashionMNIST/raw/t10k-images-idx3-ubyte'\n",
    "\n",
    "# import data\n",
    "images = import_data(train_images_path, images=True, train=True, flatten=False)\n",
    "labels = import_data(train_label_path, images=False, train=True)\n",
    "test_images = import_data(test_images_path, images=True, train=False, flatten=False)\n",
    "test_labels = import_data(test_label_path, images=False, train=False)"
   ]
  },
  {
   "cell_type": "markdown",
   "metadata": {},
   "source": [
    "## 2.2. Stratified Data Split (50k:10k:10k)"
   ]
  },
  {
   "cell_type": "markdown",
   "metadata": {},
   "source": [
    "The original data has 60k samples in training dataset and 10k samples in test dataset. The split was stratified based on the class of target labels. \n",
    "\n",
    "Here I split the original training dataset into 50k samples for training and 10k samples for validation, stratified based on the class of target labels. "
   ]
  },
  {
   "cell_type": "code",
   "execution_count": 16,
   "metadata": {},
   "outputs": [],
   "source": [
    "from sklearn.model_selection import train_test_split\n",
    "\n",
    "train_images, val_images, train_labels, val_labels = train_test_split(\n",
    "    images, labels, test_size=1/6, random_state=42, stratify=labels\n",
    ")"
   ]
  },
  {
   "cell_type": "code",
   "execution_count": 17,
   "metadata": {},
   "outputs": [
    {
     "name": "stdout",
     "output_type": "stream",
     "text": [
      "The shape of train image data: (50000, 28, 28)\n",
      "The shape of train label data: (50000,)\n",
      "The shape of validation image data: (10000, 28, 28)\n",
      "The shape of validation label data: (10000,)\n",
      "The shape of validation image data: (10000, 28, 28)\n",
      "The shape of test label data: (10000,)\n"
     ]
    }
   ],
   "source": [
    "print(f'The shape of train image data: {train_images.shape}')\n",
    "print(f'The shape of train label data: {train_labels.shape}')\n",
    "print(f'The shape of validation image data: {val_images.shape}')\n",
    "print(f'The shape of validation label data: {val_labels.shape}')\n",
    "print(f'The shape of validation image data: {test_images.shape}')\n",
    "print(f'The shape of test label data: {test_labels.shape}')"
   ]
  },
  {
   "cell_type": "markdown",
   "metadata": {},
   "source": [
    "## 2.3. Sanity check"
   ]
  },
  {
   "cell_type": "markdown",
   "metadata": {},
   "source": [
    "### 2.3.1. Check class distribution"
   ]
  },
  {
   "cell_type": "markdown",
   "metadata": {},
   "source": [
    "Check number of classes in each dataset"
   ]
  },
  {
   "cell_type": "code",
   "execution_count": 18,
   "metadata": {},
   "outputs": [
    {
     "data": {
      "text/html": [
       "<div>\n",
       "<style scoped>\n",
       "    .dataframe tbody tr th:only-of-type {\n",
       "        vertical-align: middle;\n",
       "    }\n",
       "\n",
       "    .dataframe tbody tr th {\n",
       "        vertical-align: top;\n",
       "    }\n",
       "\n",
       "    .dataframe thead th {\n",
       "        text-align: right;\n",
       "    }\n",
       "</style>\n",
       "<table border=\"1\" class=\"dataframe\">\n",
       "  <thead>\n",
       "    <tr style=\"text-align: right;\">\n",
       "      <th></th>\n",
       "      <th>train</th>\n",
       "      <th>val</th>\n",
       "      <th>test</th>\n",
       "    </tr>\n",
       "  </thead>\n",
       "  <tbody>\n",
       "    <tr>\n",
       "      <th>T-shirt/top</th>\n",
       "      <td>5000</td>\n",
       "      <td>1000</td>\n",
       "      <td>1000</td>\n",
       "    </tr>\n",
       "    <tr>\n",
       "      <th>Trouser</th>\n",
       "      <td>5000</td>\n",
       "      <td>1000</td>\n",
       "      <td>1000</td>\n",
       "    </tr>\n",
       "    <tr>\n",
       "      <th>Pullover</th>\n",
       "      <td>5000</td>\n",
       "      <td>1000</td>\n",
       "      <td>1000</td>\n",
       "    </tr>\n",
       "    <tr>\n",
       "      <th>Dress</th>\n",
       "      <td>5000</td>\n",
       "      <td>1000</td>\n",
       "      <td>1000</td>\n",
       "    </tr>\n",
       "    <tr>\n",
       "      <th>Coat</th>\n",
       "      <td>5000</td>\n",
       "      <td>1000</td>\n",
       "      <td>1000</td>\n",
       "    </tr>\n",
       "    <tr>\n",
       "      <th>Sandal</th>\n",
       "      <td>5000</td>\n",
       "      <td>1000</td>\n",
       "      <td>1000</td>\n",
       "    </tr>\n",
       "    <tr>\n",
       "      <th>Shirt</th>\n",
       "      <td>5000</td>\n",
       "      <td>1000</td>\n",
       "      <td>1000</td>\n",
       "    </tr>\n",
       "    <tr>\n",
       "      <th>Sneaker</th>\n",
       "      <td>5000</td>\n",
       "      <td>1000</td>\n",
       "      <td>1000</td>\n",
       "    </tr>\n",
       "    <tr>\n",
       "      <th>Bag</th>\n",
       "      <td>5000</td>\n",
       "      <td>1000</td>\n",
       "      <td>1000</td>\n",
       "    </tr>\n",
       "    <tr>\n",
       "      <th>Ankle Boot</th>\n",
       "      <td>5000</td>\n",
       "      <td>1000</td>\n",
       "      <td>1000</td>\n",
       "    </tr>\n",
       "  </tbody>\n",
       "</table>\n",
       "</div>"
      ],
      "text/plain": [
       "             train   val  test\n",
       "T-shirt/top   5000  1000  1000\n",
       "Trouser       5000  1000  1000\n",
       "Pullover      5000  1000  1000\n",
       "Dress         5000  1000  1000\n",
       "Coat          5000  1000  1000\n",
       "Sandal        5000  1000  1000\n",
       "Shirt         5000  1000  1000\n",
       "Sneaker       5000  1000  1000\n",
       "Bag           5000  1000  1000\n",
       "Ankle Boot    5000  1000  1000"
      ]
     },
     "execution_count": 18,
     "metadata": {},
     "output_type": "execute_result"
    }
   ],
   "source": [
    "import pandas as pd\n",
    "\n",
    "# Store the names of target labels into a list\n",
    "classes = ['T-shirt/top', 'Trouser', 'Pullover', 'Dress', 'Coat', 'Sandal', 'Shirt', 'Sneaker', 'Bag', 'Ankle Boot']\n",
    "\n",
    "# Count the number of labels in each dataset\n",
    "label_counts = {}\n",
    "label_counts['train'] = pd.Series(train_labels).sort_values().value_counts()\n",
    "label_counts['val'] = pd.Series(val_labels).sort_values().value_counts()\n",
    "label_counts['test']  = pd.Series(test_labels).sort_values().value_counts()\n",
    "\n",
    "# Present the distribution using pandas dataframe\n",
    "label_counts_df = pd.DataFrame(label_counts)\n",
    "label_counts_df.index = classes\n",
    "\n",
    "label_counts_df"
   ]
  },
  {
   "cell_type": "markdown",
   "metadata": {},
   "source": [
    "### 2.3.2 Check images"
   ]
  },
  {
   "cell_type": "markdown",
   "metadata": {},
   "source": [
    "Randomly select one image from each class, display them."
   ]
  },
  {
   "cell_type": "code",
   "execution_count": 19,
   "metadata": {},
   "outputs": [
    {
     "data": {
      "image/png": "[encoded data removed]",
      "text/plain": [
       "<Figure size 1400x600 with 10 Axes>"
      ]
     },
     "metadata": {},
     "output_type": "display_data"
    }
   ],
   "source": [
    "import matplotlib.pyplot as plt\n",
    "\n",
    "classes = ['T-shirt/top', 'Trouser', 'Pullover', 'Dress', 'Coat', 'Sandal', 'Shirt', 'Sneaker', 'Bag', 'Ankle Boot']\n",
    "\n",
    "# Set up a figure with 10 axes\n",
    "fig, axes = plt.subplots(2, 5, figsize=(14, 6))\n",
    "\n",
    "for i in range(len(classes)):\n",
    "    # Find indices of all images belonging to class i\n",
    "    class_indices = np.where(train_labels == i)[0]\n",
    "    # Randomly sample one index\n",
    "    image_idx = np.random.choice(class_indices)\n",
    "    # Retrieve and display the randomly selected image\n",
    "    # Reshape the flattened image data back to 28*28 pixels\n",
    "    image_data = train_images[image_idx].reshape(28, 28)\n",
    "    # Set cmaps as 'gray', as picture is in grayscale\n",
    "    axes[i // 5, i % 5].imshow(image_data, cmap='gray')\n",
    "    axes[i // 5, i % 5].axis('off')\n",
    "    axes[i // 5, i % 5].set_title(classes[i])\n",
    "\n",
    "# Adjust spacing and display the plot\n",
    "plt.tight_layout()\n",
    "plt.show()"
   ]
  },
  {
   "cell_type": "markdown",
   "metadata": {},
   "source": [
    "## 2.4. Preload Dataset using Custom Dataset"
   ]
  },
  {
   "cell_type": "code",
   "execution_count": 20,
   "metadata": {},
   "outputs": [],
   "source": [
    "from utils.dataset import FashionData"
   ]
  },
  {
   "cell_type": "code",
   "execution_count": 21,
   "metadata": {},
   "outputs": [],
   "source": [
    "train_data = FashionData(train_images, train_labels, unsqueeze=True)\n",
    "val_data = FashionData(val_images, val_labels, unsqueeze=True)\n",
    "test_data = FashionData(test_images, test_labels, unsqueeze=True)"
   ]
  },
  {
   "cell_type": "code",
   "execution_count": 22,
   "metadata": {},
   "outputs": [
    {
     "data": {
      "text/plain": [
       "torch.Size([28, 28])"
      ]
     },
     "execution_count": 22,
     "metadata": {},
     "output_type": "execute_result"
    }
   ],
   "source": [
    "val_data.images[0].shape"
   ]
  },
  {
   "cell_type": "markdown",
   "metadata": {},
   "source": [
    "## 2.5 Data Loading"
   ]
  },
  {
   "cell_type": "code",
   "execution_count": 23,
   "metadata": {},
   "outputs": [],
   "source": [
    "# Loading\n",
    "from torch.utils.data import DataLoader\n",
    "train_dataloader = DataLoader(train_data, batch_size=64, shuffle=True, num_workers=0)\n",
    "val_dataloader = DataLoader(val_data, batch_size=64, shuffle=False)\n",
    "test_dataloader = DataLoader(test_data, batch_size=64, shuffle=False)"
   ]
  },
  {
   "cell_type": "markdown",
   "metadata": {},
   "source": [
    "# 3. LeNet-5"
   ]
  },
  {
   "cell_type": "markdown",
   "metadata": {},
   "source": [
    "The LeNet is one of the earliest convolutional neural network, designed by LeCun et al. (1998) for the MNIST dataset. Below is the structure of the original LeNet. \n",
    "\n",
    "For the original version LeNet, I'll replicate this model completely (i.e., filter size, stride, and activation function). I'll adjust the number of parameters a little bit, because the dimension of FashionMNIST data is 28 X 28 instead of 32 X 32.\n",
    "\n",
    "For the modern improved version, I'll change the activation function from tanh to ReLU, use max pooling instead of average pooling, and discard the Softmax activation function at the output layer due to its vanishing gradient issue."
   ]
  },
  {
   "cell_type": "markdown",
   "metadata": {},
   "source": [
    "![image](./pictures/LeNet_architecture_table.png)"
   ]
  },
  {
   "cell_type": "markdown",
   "metadata": {},
   "source": [
    "## 3.1. LeNet-5 Original"
   ]
  },
  {
   "cell_type": "code",
   "execution_count": 24,
   "metadata": {},
   "outputs": [],
   "source": [
    "from torch import nn\n",
    "import time\n",
    "import torchmetrics\n",
    "from utils.model_train_test import train_validate_iteration"
   ]
  },
  {
   "cell_type": "code",
   "execution_count": 25,
   "metadata": {},
   "outputs": [],
   "source": [
    "# Define the LeNet architecture\n",
    "class LeNetLegacy(nn.Module):\n",
    "    def __init__(self):\n",
    "        super(LeNetLegacy, self).__init__()\n",
    "        self.conv_layer1 = nn.Sequential(\n",
    "            # First conv layer: \n",
    "            # in_channels=1: 1 input channel, given it's gray scale image\n",
    "            # out_channels=6: 6 output features\n",
    "            # kernel_size=5: 5 by 5 filter\n",
    "            # 28 X 28 X 1 -> 24 X 24 X 6\n",
    "            nn.Conv2d(in_channels=1, out_channels=6, kernel_size=5, stride=1, padding=0),\n",
    "            # Apply batch normalization\n",
    "            nn.BatchNorm2d(num_features=6),\n",
    "            # Activation function\n",
    "            nn.Tanh(),\n",
    "            # Pooling layer: Average pooling\n",
    "            # kernel_size=2: 2 by 2 filter\n",
    "            # stride=2: skip one pixel, (its default value is the kernel size)\n",
    "            # 24 X 24 X 6-> 12 X 12 X 6\n",
    "            nn.AvgPool2d(kernel_size=2, stride=2))\n",
    "\n",
    "        self.conv_layer2 = nn.Sequential(\n",
    "            # Second conv layer: \n",
    "            # in_channels=6: 6 input channels (i.e., features)\n",
    "            # out_channels=16: 16 output features\n",
    "            # kernel_size=5: 5 by 5 filter\n",
    "            # 12 X 12 X 6 -> 8 X 8 X 16\n",
    "            nn.Conv2d(in_channels=6, out_channels=16, kernel_size=5, stride=1, padding=0),\n",
    "            # Apply batch normalization\n",
    "            nn.BatchNorm2d(num_features=16),\n",
    "            # Activation function\n",
    "            nn.Tanh(),\n",
    "            # Pooling layer: average pooling, the same to previous\n",
    "            # 8 X 8 X 16 -> 4 x 4 X 16\n",
    "            nn.AvgPool2d(kernel_size=2, stride=2)\n",
    "        )\n",
    "\n",
    "        self.fc_layers = nn.Sequential(\n",
    "            # Flatten the image for fully connected layers\n",
    "            nn.Flatten(),\n",
    "            # FC layer1\n",
    "            nn.Linear(4*4*16, 120),\n",
    "            nn.Tanh(),\n",
    "            nn.Linear(120, 84),\n",
    "            # FC layer2\n",
    "            nn.Tanh(),\n",
    "            nn.Linear(84, 10)\n",
    "        )\n",
    "\n",
    "        self.softmax = nn.Softmax(dim=-1)\n",
    "\n",
    "    def forward(self, x):\n",
    "        x = self.conv_layer1(x)\n",
    "        x = self.conv_layer2(x)\n",
    "        x = self.fc_layers(x)\n",
    "        x = self.softmax(x)\n",
    "        return x"
   ]
  },
  {
   "cell_type": "code",
   "execution_count": 26,
   "metadata": {},
   "outputs": [
    {
     "name": "stdout",
     "output_type": "stream",
     "text": [
      "Total number of epochs: 25\n",
      "-------------------------------\n",
      "Training epoch: 1\n"
     ]
    },
    {
     "name": "stdout",
     "output_type": "stream",
     "text": [
      "average training loss: 1.7078103705135452\n",
      "train set score: 0.7696599960327148\n",
      "average validation loss: 1.6452025235838192\n",
      "validation set score: 0.8190000057220459\n",
      "-------------------------------\n",
      "Training epoch: 2\n",
      "average training loss: 1.6273199188739746\n",
      "train set score: 0.8370800018310547\n",
      "average validation loss: 1.6090265474501688\n",
      "validation set score: 0.8540999889373779\n",
      "-------------------------------\n",
      "Training epoch: 3\n",
      "average training loss: 1.6102968179966177\n",
      "train set score: 0.8522800207138062\n",
      "average validation loss: 1.5996085025702313\n",
      "validation set score: 0.8647000193595886\n",
      "-------------------------------\n",
      "Training epoch: 4\n",
      "average training loss: 1.599603370632357\n",
      "train set score: 0.8627399802207947\n",
      "average validation loss: 1.5932074071495397\n",
      "validation set score: 0.8705000281333923\n",
      "-------------------------------\n",
      "Training epoch: 5\n",
      "average training loss: 1.5921997620016717\n",
      "train set score: 0.8701000213623047\n",
      "average validation loss: 1.5912275132100293\n",
      "validation set score: 0.8695999979972839\n",
      "-------------------------------\n",
      "Training epoch: 6\n",
      "average training loss: 1.5851934657377356\n",
      "train set score: 0.8767399787902832\n",
      "average validation loss: 1.5887703736116932\n",
      "validation set score: 0.8726999759674072\n",
      "-------------------------------\n",
      "Training epoch: 7\n",
      "average training loss: 1.5791414366353809\n",
      "train set score: 0.8827999830245972\n",
      "average validation loss: 1.5757736332097632\n",
      "validation set score: 0.8848000168800354\n",
      "-------------------------------\n",
      "Training epoch: 8\n",
      "average training loss: 1.5739631440938282\n",
      "train set score: 0.8882200121879578\n",
      "average validation loss: 1.5752251854368076\n",
      "validation set score: 0.885699987411499\n",
      "-------------------------------\n",
      "Training epoch: 9\n",
      "average training loss: 1.5709354813446474\n",
      "train set score: 0.8913400173187256\n",
      "average validation loss: 1.5741424454245598\n",
      "validation set score: 0.8884999752044678\n",
      "-------------------------------\n",
      "Training epoch: 10\n",
      "average training loss: 1.5666687084585809\n",
      "train set score: 0.8949999809265137\n",
      "average validation loss: 1.5751569703885704\n",
      "validation set score: 0.8863000273704529\n",
      "-------------------------------\n",
      "Training epoch: 11\n",
      "average training loss: 1.5653695186690602\n",
      "train set score: 0.8969799876213074\n",
      "average validation loss: 1.5726735834862775\n",
      "validation set score: 0.8895999789237976\n",
      "-------------------------------\n",
      "Training epoch: 12\n",
      "average training loss: 1.5612562966468695\n",
      "train set score: 0.9003599882125854\n",
      "average validation loss: 1.5758094802783553\n",
      "validation set score: 0.8853999972343445\n",
      "-------------------------------\n",
      "Training epoch: 13\n",
      "average training loss: 1.5590892595708217\n",
      "train set score: 0.9027600288391113\n",
      "average validation loss: 1.5695738215355357\n",
      "validation set score: 0.8917999863624573\n",
      "-------------------------------\n",
      "Training epoch: 14\n",
      "average training loss: 1.5588154751626426\n",
      "train set score: 0.9035400152206421\n",
      "average validation loss: 1.5674492842072894\n",
      "validation set score: 0.89410001039505\n",
      "-------------------------------\n",
      "Training epoch: 15\n",
      "average training loss: 1.5550940699894409\n",
      "train set score: 0.9067999720573425\n",
      "average validation loss: 1.5699064040639599\n",
      "validation set score: 0.8919000029563904\n",
      "-------------------------------\n",
      "Training epoch: 16\n",
      "average training loss: 1.552384785069224\n",
      "train set score: 0.9095199704170227\n",
      "average validation loss: 1.565782440695793\n",
      "validation set score: 0.8952999711036682\n",
      "-------------------------------\n",
      "Training epoch: 17\n",
      "average training loss: 1.549402890302946\n",
      "train set score: 0.9124199748039246\n",
      "average validation loss: 1.5653085632688681\n",
      "validation set score: 0.8967999815940857\n",
      "-------------------------------\n",
      "Training epoch: 18\n",
      "average training loss: 1.5480738145006283\n",
      "train set score: 0.9143000245094299\n",
      "average validation loss: 1.572156440680194\n",
      "validation set score: 0.8899999856948853\n",
      "-------------------------------\n",
      "Training epoch: 19\n",
      "average training loss: 1.5465304907935356\n",
      "train set score: 0.9155600070953369\n",
      "average validation loss: 1.5655846588171212\n",
      "validation set score: 0.8968999981880188\n",
      "-------------------------------\n",
      "Training epoch: 20\n",
      "average training loss: 1.5449185061942585\n",
      "train set score: 0.9172400236129761\n",
      "average validation loss: 1.5635720939393256\n",
      "validation set score: 0.8974999785423279\n",
      "-------------------------------\n",
      "Training epoch: 21\n",
      "average training loss: 1.5435160492997035\n",
      "train set score: 0.9182000160217285\n",
      "average validation loss: 1.5663419650618438\n",
      "validation set score: 0.8949999809265137\n",
      "-------------------------------\n",
      "Training epoch: 22\n",
      "average training loss: 1.5407534633451105\n",
      "train set score: 0.9215400218963623\n",
      "average validation loss: 1.5724503568782928\n",
      "validation set score: 0.8891000151634216\n",
      "-------------------------------\n",
      "Training epoch: 23\n",
      "average training loss: 1.5412430711414502\n",
      "train set score: 0.9205800294876099\n",
      "average validation loss: 1.5652803987454458\n",
      "validation set score: 0.8960000276565552\n",
      "-------------------------------\n",
      "Training epoch: 24\n",
      "average training loss: 1.5371491620912576\n",
      "train set score: 0.924839973449707\n",
      "average validation loss: 1.5606123664576537\n",
      "validation set score: 0.9006999731063843\n",
      "-------------------------------\n",
      "Training epoch: 25\n",
      "average training loss: 1.5360339440957969\n",
      "train set score: 0.925599992275238\n",
      "average validation loss: 1.5598151995118257\n",
      "validation set score: 0.9006999731063843\n",
      "-------------------------------\n",
      "Time taken: 197.13 seconds\n"
     ]
    }
   ],
   "source": [
    "# training\n",
    "device ='cpu'\n",
    "metric = torchmetrics.Accuracy(task='multiclass', num_classes=10)\n",
    "model = LeNetLegacy().to(device)\n",
    "loss_fn = torch.nn.CrossEntropyLoss()\n",
    "optimizer = torch.optim.Adam(model.parameters(), lr=.001)\n",
    "metric = torchmetrics.Accuracy(task='multiclass', num_classes=10).to(device)\n",
    "\n",
    "summary = train_validate_iteration(\n",
    "    train_dataloader=train_dataloader,\n",
    "    val_dataloader=val_dataloader,\n",
    "    num_epochs=25,\n",
    "    model=model,\n",
    "    optimizer=optimizer,\n",
    "    loss_fn=loss_fn,\n",
    "    metric=metric,\n",
    "    device=device\n",
    ")"
   ]
  },
  {
   "cell_type": "code",
   "execution_count": 27,
   "metadata": {},
   "outputs": [
    {
     "data": {
      "image/png": "[encoded data removed]",
      "text/plain": [
       "<Figure size 640x480 with 1 Axes>"
      ]
     },
     "metadata": {},
     "output_type": "display_data"
    }
   ],
   "source": [
    "plt.plot(summary['train_loss'], color='skyblue', label='train loss')\n",
    "plt.plot(summary['val_loss'], color='red', label='validation loss')\n",
    "plt.xlabel('Epoch')\n",
    "plt.legend()\n",
    "plt.show()"
   ]
  },
  {
   "cell_type": "code",
   "execution_count": 28,
   "metadata": {},
   "outputs": [
    {
     "data": {
      "image/png": "[encoded data removed]",
      "text/plain": [
       "<Figure size 640x480 with 1 Axes>"
      ]
     },
     "metadata": {},
     "output_type": "display_data"
    }
   ],
   "source": [
    "plt.plot(summary['train_score'], color='skyblue', label='train accuracy')\n",
    "plt.plot(summary['val_score'], color='red', label='validation accuracy')\n",
    "plt.xlabel('Epoch')\n",
    "plt.legend()\n",
    "plt.show()"
   ]
  },
  {
   "cell_type": "markdown",
   "metadata": {},
   "source": [
    "### Measure performance on test data"
   ]
  },
  {
   "cell_type": "code",
   "execution_count": 29,
   "metadata": {},
   "outputs": [],
   "source": [
    "from utils.model_train_test import metrics_across_classes"
   ]
  },
  {
   "cell_type": "code",
   "execution_count": 30,
   "metadata": {},
   "outputs": [
    {
     "name": "stdout",
     "output_type": "stream",
     "text": [
      "         class  precision  recall  f1-score  support\n",
      "0  T-shirt/top   0.848943   0.843  0.845961     1000\n",
      "1      Trouser   0.984833   0.974  0.979387     1000\n",
      "2     Pullover   0.830721   0.795  0.812468     1000\n",
      "3        Dress   0.847846   0.925  0.884744     1000\n",
      "4         Coat   0.757412   0.843  0.797918     1000\n",
      "5       Sandal   0.976697   0.964  0.970307     1000\n",
      "6        Shirt   0.747045   0.632  0.684724     1000\n",
      "7      Sneaker   0.947948   0.947  0.947474     1000\n",
      "8          Bag   0.963111   0.966  0.964553     1000\n",
      "9   Ankle Boot   0.948141   0.969  0.958457     1000\n",
      "--------------------------------------------------\n",
      "Overall accuracy: 0.886\n",
      "Macro average precision: 0.885, Recall: 0.886, F1: 0.885\n",
      "Weighted average precision: 0.885, Recall: 0.886, F1: 0.885\n"
     ]
    }
   ],
   "source": [
    "metrics_across_classes(test_dataloader, model, device=device)"
   ]
  },
  {
   "cell_type": "markdown",
   "metadata": {},
   "source": [
    "## 3.2. LeNet-5 Modern"
   ]
  },
  {
   "cell_type": "code",
   "execution_count": 31,
   "metadata": {},
   "outputs": [],
   "source": [
    "# Define the LeNet architecture\n",
    "class LeNetModern(nn.Module):\n",
    "    def __init__(self):\n",
    "        super(LeNetModern, self).__init__()\n",
    "        self.conv_layer1 = nn.Sequential(\n",
    "            # First conv layer: \n",
    "            # in_channels=1: 1 input channel, given it's gray scale image\n",
    "            # out_channels=6: 6 output features\n",
    "            # kernel_size=5: 5 by 5 filter\n",
    "            # 28 X 28 X 1 -> 24 X 24 X 6\n",
    "            nn.Conv2d(in_channels=1, out_channels=6, kernel_size=5, stride=1, padding=0),\n",
    "            # Apply batch normalization\n",
    "            nn.BatchNorm2d(num_features=6),\n",
    "            # Activation function\n",
    "            nn.ReLU(),\n",
    "            # Pooling layer: Max pooling\n",
    "            # kernel_size=2: 2 by 2 filter\n",
    "            # stride=2: skip one pixel, (its default value is the kernel size)\n",
    "            # 24 X 24 X 6-> 12 X 12 X 6\n",
    "            nn.MaxPool2d(kernel_size=2, stride=2))\n",
    "\n",
    "        self.conv_layer2 = nn.Sequential(\n",
    "            # Second conv layer: \n",
    "            # in_channels=6: 6 input channels (i.e., features)\n",
    "            # out_channels=16: 16 output features\n",
    "            # kernel_size=5: 5 by 5 filter\n",
    "            # 12 X 12 X 6 -> 8 X 8 X 16\n",
    "            nn.Conv2d(in_channels=6, out_channels=16, kernel_size=5, stride=1, padding=0),\n",
    "            # Apply batch normalization\n",
    "            nn.BatchNorm2d(num_features=16),\n",
    "            # Activation function\n",
    "            nn.ReLU(),\n",
    "            # Pooling layer: average pooling, the same to previous\n",
    "            # 8 X 8 X 16 -> 4 x 4 X 16\n",
    "            nn.MaxPool2d(kernel_size=2, stride=2)\n",
    "        )\n",
    "\n",
    "        self.fc_layers = nn.Sequential(\n",
    "            # Flatten the image for fully connected layers\n",
    "            nn.Flatten(),\n",
    "            # FC layer1\n",
    "            nn.Linear(4*4*16, 120),\n",
    "            nn.ReLU(),\n",
    "            nn.Linear(120, 84),\n",
    "            # FC layer2\n",
    "            nn.ReLU(),\n",
    "            nn.Linear(84, 10)\n",
    "        )\n",
    "\n",
    "        self.softmax = nn.Softmax(dim=-1)\n",
    "\n",
    "    def forward(self, x):\n",
    "        x = self.conv_layer1(x)\n",
    "        x = self.conv_layer2(x)\n",
    "        x = self.fc_layers(x)\n",
    "        x = self.softmax(x)\n",
    "\n",
    "        return x"
   ]
  },
  {
   "cell_type": "code",
   "execution_count": 32,
   "metadata": {},
   "outputs": [
    {
     "name": "stdout",
     "output_type": "stream",
     "text": [
      "Total number of epochs: 25\n",
      "-------------------------------\n",
      "Training epoch: 1\n"
     ]
    },
    {
     "name": "stdout",
     "output_type": "stream",
     "text": [
      "average training loss: 1.6891312529059017\n",
      "train set score: 0.7799999713897705\n",
      "average validation loss: 1.62006762832593\n",
      "validation set score: 0.8434000015258789\n",
      "-------------------------------\n",
      "Training epoch: 2\n",
      "average training loss: 1.6171076136171971\n",
      "train set score: 0.845300018787384\n",
      "average validation loss: 1.6113218418352164\n",
      "validation set score: 0.8521000146865845\n",
      "-------------------------------\n",
      "Training epoch: 3\n",
      "average training loss: 1.6037272021288762\n",
      "train set score: 0.8576599955558777\n",
      "average validation loss: 1.5954032999694727\n",
      "validation set score: 0.8655999898910522\n",
      "-------------------------------\n",
      "Training epoch: 4\n",
      "average training loss: 1.595654244922921\n",
      "train set score: 0.8656399846076965\n",
      "average validation loss: 1.5900879528871767\n",
      "validation set score: 0.871399998664856\n",
      "-------------------------------\n",
      "Training epoch: 5\n",
      "average training loss: 1.5900470844620025\n",
      "train set score: 0.8711000084877014\n",
      "average validation loss: 1.5865089802225685\n",
      "validation set score: 0.8756999969482422\n",
      "-------------------------------\n",
      "Training epoch: 6\n",
      "average training loss: 1.5849055028937358\n",
      "train set score: 0.8765199780464172\n",
      "average validation loss: 1.5850961580397978\n",
      "validation set score: 0.8763999938964844\n",
      "-------------------------------\n",
      "Training epoch: 7\n",
      "average training loss: 1.5819912879058466\n",
      "train set score: 0.8793799877166748\n",
      "average validation loss: 1.5908549955696056\n",
      "validation set score: 0.8704000115394592\n",
      "-------------------------------\n",
      "Training epoch: 8\n",
      "average training loss: 1.578215507442689\n",
      "train set score: 0.8821600079536438\n",
      "average validation loss: 1.5778111371265096\n",
      "validation set score: 0.8824999928474426\n",
      "-------------------------------\n",
      "Training epoch: 9\n",
      "average training loss: 1.5764230594915503\n",
      "train set score: 0.8844199776649475\n",
      "average validation loss: 1.5803440247371698\n",
      "validation set score: 0.8805999755859375\n",
      "-------------------------------\n",
      "Training epoch: 10\n",
      "average training loss: 1.5740381567679402\n",
      "train set score: 0.8870199918746948\n",
      "average validation loss: 1.574030186719955\n",
      "validation set score: 0.8871999979019165\n",
      "-------------------------------\n",
      "Training epoch: 11\n",
      "average training loss: 1.5694481213684277\n",
      "train set score: 0.8913000226020813\n",
      "average validation loss: 1.5760116182315123\n",
      "validation set score: 0.8841999769210815\n",
      "-------------------------------\n",
      "Training epoch: 12\n",
      "average training loss: 1.5678560181956767\n",
      "train set score: 0.8934199810028076\n",
      "average validation loss: 1.573274855401106\n",
      "validation set score: 0.8876000046730042\n",
      "-------------------------------\n",
      "Training epoch: 13\n",
      "average training loss: 1.5653676354061916\n",
      "train set score: 0.8956999778747559\n",
      "average validation loss: 1.5744217816431811\n",
      "validation set score: 0.8870000243186951\n",
      "-------------------------------\n",
      "Training epoch: 14\n",
      "average training loss: 1.5642437474502018\n",
      "train set score: 0.8966000080108643\n",
      "average validation loss: 1.5744827340362937\n",
      "validation set score: 0.8870999813079834\n",
      "-------------------------------\n",
      "Training epoch: 15\n",
      "average training loss: 1.5637790484501577\n",
      "train set score: 0.8967999815940857\n",
      "average validation loss: 1.5768489609858034\n",
      "validation set score: 0.883899986743927\n",
      "-------------------------------\n",
      "Training epoch: 16\n",
      "average training loss: 1.5611965109015364\n",
      "train set score: 0.8994799852371216\n",
      "average validation loss: 1.5770097135738204\n",
      "validation set score: 0.8823000192642212\n",
      "-------------------------------\n",
      "Training epoch: 17\n",
      "average training loss: 1.557202338562597\n",
      "train set score: 0.9039400219917297\n",
      "average validation loss: 1.5650412444096462\n",
      "validation set score: 0.8955000042915344\n",
      "-------------------------------\n",
      "Training epoch: 18\n",
      "average training loss: 1.5583276073341175\n",
      "train set score: 0.9027199745178223\n",
      "average validation loss: 1.567455379826248\n",
      "validation set score: 0.8930000066757202\n",
      "-------------------------------\n",
      "Training epoch: 19\n",
      "average training loss: 1.5564447417283607\n",
      "train set score: 0.9046599864959717\n",
      "average validation loss: 1.5736243755194792\n",
      "validation set score: 0.8859999775886536\n",
      "-------------------------------\n",
      "Training epoch: 20\n",
      "average training loss: 1.5545531206423668\n",
      "train set score: 0.9063199758529663\n",
      "average validation loss: 1.5702085487402169\n",
      "validation set score: 0.8901000022888184\n",
      "-------------------------------\n",
      "Training epoch: 21\n",
      "average training loss: 1.5527967020983586\n",
      "train set score: 0.9085000157356262\n",
      "average validation loss: 1.5639527762771412\n",
      "validation set score: 0.8967000246047974\n",
      "-------------------------------\n",
      "Training epoch: 22\n",
      "average training loss: 1.5528048882094185\n",
      "train set score: 0.9085000157356262\n",
      "average validation loss: 1.568315207578574\n",
      "validation set score: 0.8927000164985657\n",
      "-------------------------------\n",
      "Training epoch: 23\n",
      "average training loss: 1.5516545411266025\n",
      "train set score: 0.9090800285339355\n",
      "average validation loss: 1.565887689590454\n",
      "validation set score: 0.8953999876976013\n",
      "-------------------------------\n",
      "Training epoch: 24\n",
      "average training loss: 1.5504167965610924\n",
      "train set score: 0.9104599952697754\n",
      "average validation loss: 1.5681402584549728\n",
      "validation set score: 0.8921999931335449\n",
      "-------------------------------\n",
      "Training epoch: 25\n",
      "average training loss: 1.5508135637968703\n",
      "train set score: 0.9099000096321106\n",
      "average validation loss: 1.5699531948490508\n",
      "validation set score: 0.8913999795913696\n",
      "-------------------------------\n",
      "Time taken: 183.10 seconds\n"
     ]
    }
   ],
   "source": [
    "# training\n",
    "device ='cpu'\n",
    "metric = torchmetrics.Accuracy(task='multiclass', num_classes=10)\n",
    "model = LeNetModern().to(device)\n",
    "loss_fn = torch.nn.CrossEntropyLoss()\n",
    "optimizer = torch.optim.Adam(model.parameters(), lr=.001)\n",
    "metric = torchmetrics.Accuracy(task='multiclass', num_classes=10).to(device)\n",
    "\n",
    "summary = train_validate_iteration(\n",
    "    train_dataloader=train_dataloader,\n",
    "    val_dataloader=val_dataloader,\n",
    "    num_epochs=25,\n",
    "    model=model,\n",
    "    optimizer=optimizer,\n",
    "    loss_fn=loss_fn,\n",
    "    metric=metric,\n",
    "    device=device\n",
    ")"
   ]
  },
  {
   "cell_type": "code",
   "execution_count": 33,
   "metadata": {},
   "outputs": [
    {
     "data": {
      "image/png": "[encoded data removed]",
      "text/plain": [
       "<Figure size 640x480 with 1 Axes>"
      ]
     },
     "metadata": {},
     "output_type": "display_data"
    }
   ],
   "source": [
    "plt.plot(summary['train_loss'], color='skyblue', label='train loss')\n",
    "plt.plot(summary['val_loss'], color='red', label='validation loss')\n",
    "plt.xlabel('Epoch')\n",
    "plt.legend()\n",
    "plt.show()"
   ]
  },
  {
   "cell_type": "code",
   "execution_count": 34,
   "metadata": {},
   "outputs": [
    {
     "data": {
      "image/png": "[encoded data removed]",
      "text/plain": [
       "<Figure size 640x480 with 1 Axes>"
      ]
     },
     "metadata": {},
     "output_type": "display_data"
    }
   ],
   "source": [
    "plt.plot(summary['train_score'], color='skyblue', label='train accuracy')\n",
    "plt.plot(summary['val_score'], color='red', label='validation accuracy')\n",
    "plt.xlabel('Epoch')\n",
    "plt.legend()\n",
    "plt.show()"
   ]
  },
  {
   "cell_type": "markdown",
   "metadata": {},
   "source": [
    "### Measure performance on test data"
   ]
  },
  {
   "cell_type": "code",
   "execution_count": 35,
   "metadata": {},
   "outputs": [],
   "source": [
    "from utils.model_train_test import metrics_across_classes"
   ]
  },
  {
   "cell_type": "code",
   "execution_count": 36,
   "metadata": {},
   "outputs": [
    {
     "name": "stdout",
     "output_type": "stream",
     "text": [
      "         class  precision  recall  f1-score  support\n",
      "0  T-shirt/top   0.871041   0.770  0.817410     1000\n",
      "1      Trouser   0.982794   0.971  0.976861     1000\n",
      "2     Pullover   0.895906   0.766  0.825876     1000\n",
      "3        Dress   0.879921   0.894  0.886905     1000\n",
      "4         Coat   0.823590   0.803  0.813165     1000\n",
      "5       Sandal   0.987395   0.940  0.963115     1000\n",
      "6        Shirt   0.620771   0.789  0.694848     1000\n",
      "7      Sneaker   0.920304   0.970  0.944499     1000\n",
      "8          Bag   0.953786   0.970  0.961824     1000\n",
      "9   Ankle Boot   0.961538   0.950  0.955734     1000\n",
      "--------------------------------------------------\n",
      "Overall accuracy: 0.882\n",
      "Macro average precision: 0.890, Recall: 0.882, F1: 0.884\n",
      "Weighted average precision: 0.890, Recall: 0.882, F1: 0.884\n"
     ]
    }
   ],
   "source": [
    "metrics_across_classes(test_dataloader, model, device, classes)"
   ]
  },
  {
   "cell_type": "markdown",
   "metadata": {},
   "source": [
    "# 4. AlexNet"
   ]
  },
  {
   "cell_type": "markdown",
   "metadata": {},
   "source": [
    "The AlexNet was developed by Sutskever and Hinton (2012), with its architecture shown below. Compared with LeNet, AlexNet first uses big strides (s=4), large filters (11X11), and max pooling to reduce the image dimensions and expand channels (from 3 to 96). Then, it uses smaller stride (s=2), small filter (5X5), and max pooling again to reduce dimensions and expand channels. It finishes by same padding convolutional layers with 3X3 filter, before feeding into the fully connected layers."
   ]
  },
  {
   "cell_type": "markdown",
   "metadata": {},
   "source": [
    "This architecture works well on big images (e.g., 224 X 224 pixels). However, the image size of FashionMNIST was only 28 X 28 pixels, using strides and max pooling together will reduce the image size dramatically. "
   ]
  },
  {
   "cell_type": "markdown",
   "metadata": {},
   "source": [
    "Nonetheless, I built and tested a small CNN inspired by the AlexNet. The simpleAlexNet below has two convolutional layers with stride and two pooling layers. Because the image size after these layers were too small (i.e., 2X2), I did not apply the last sequence of 3X3 convolutional layers with same padding in the AlexNet."
   ]
  },
  {
   "cell_type": "markdown",
   "metadata": {},
   "source": [
    "<img src=\"./pictures/LeNet_AlexNet_comparison.svg.png\" width=\"500\" />"
   ]
  },
  {
   "cell_type": "markdown",
   "metadata": {},
   "source": [
    "<img src=\"./pictures/AlexNet.webp\" width=\"600\" />"
   ]
  },
  {
   "cell_type": "code",
   "execution_count": 37,
   "metadata": {},
   "outputs": [],
   "source": [
    "# Define the LeNet architecture\n",
    "class SimpleAlexNet(nn.Module):\n",
    "    def __init__(self):\n",
    "        super(SimpleAlexNet, self).__init__()\n",
    "\n",
    "        # First conv layer sequence: 28X28X1 -> 14X14X32 -> 7X7X32\n",
    "        self.conv_layer1 = nn.Sequential(\n",
    "            # 28X28X1 -> 10X10X32\n",
    "            nn.Conv2d(in_channels=1, out_channels=32, kernel_size=3, stride=2, padding=1),\n",
    "            nn.ReLU(),\n",
    "            nn.BatchNorm2d(num_features=32),\n",
    "            # 14X14X32 -> 7X7X32\n",
    "            nn.MaxPool2d(kernel_size=2, stride=2)           \n",
    "            )\n",
    "        \n",
    "        self.conv_layer2 = nn.Sequential(\n",
    "            # 7X7X32 -> 4X4X64\n",
    "            nn.Conv2d(in_channels=32, out_channels=64, kernel_size=3, stride=2, padding=1),\n",
    "            nn.ReLU(),\n",
    "            nn.BatchNorm2d(num_features=64),\n",
    "            # 4X4X64 -> 2X2X64\n",
    "            nn.MaxPool2d(kernel_size=2, stride=2)\n",
    "        )\n",
    "\n",
    "        # FC layer sequence\n",
    "        self.fc_sequence = nn.Sequential(\n",
    "            nn.Flatten(), # Flatten the image for fully connected layers\n",
    "            nn.Linear(2*2*64, 512),\n",
    "            nn.ReLU(),\n",
    "            nn.BatchNorm1d(num_features=512),\n",
    "            nn.Linear(512, 216),\n",
    "            nn.ReLU(),\n",
    "            nn.BatchNorm1d(num_features=216),\n",
    "            nn.Linear(216, 84),\n",
    "            nn.ReLU(),\n",
    "            nn.BatchNorm1d(num_features=84),\n",
    "            nn.Linear(84, 10)\n",
    "        )\n",
    "\n",
    "        self.softmax = nn.Softmax(dim=-1)\n",
    "\n",
    "    def forward(self, x):\n",
    "        x = self.conv_layer1(x)\n",
    "        x = self.conv_layer2(x)\n",
    "        x = self.fc_sequence(x)\n",
    "        x = self.softmax(x)\n",
    "        \n",
    "        return x"
   ]
  },
  {
   "cell_type": "code",
   "execution_count": 38,
   "metadata": {},
   "outputs": [
    {
     "name": "stdout",
     "output_type": "stream",
     "text": [
      "Total number of epochs: 25\n",
      "-------------------------------\n",
      "Training epoch: 1\n"
     ]
    },
    {
     "name": "stdout",
     "output_type": "stream",
     "text": [
      "average training loss: 1.6534707346535704\n",
      "train set score: 0.8174600005149841\n",
      "average validation loss: 1.6144334738421593\n",
      "validation set score: 0.8481000065803528\n",
      "-------------------------------\n",
      "Training epoch: 2\n",
      "average training loss: 1.6053137948445957\n",
      "train set score: 0.8566799759864807\n",
      "average validation loss: 1.5980825614018046\n",
      "validation set score: 0.8637999892234802\n",
      "-------------------------------\n",
      "Training epoch: 3\n",
      "average training loss: 1.5919594132077053\n",
      "train set score: 0.8690000176429749\n",
      "average validation loss: 1.5883979584760726\n",
      "validation set score: 0.8715999722480774\n",
      "-------------------------------\n",
      "Training epoch: 4\n",
      "average training loss: 1.5855999945679589\n",
      "train set score: 0.875819981098175\n",
      "average validation loss: 1.578665776617208\n",
      "validation set score: 0.8830999732017517\n",
      "-------------------------------\n",
      "Training epoch: 5\n",
      "average training loss: 1.5789271917794367\n",
      "train set score: 0.8820800185203552\n",
      "average validation loss: 1.575727733077517\n",
      "validation set score: 0.8855000138282776\n",
      "-------------------------------\n",
      "Training epoch: 6\n",
      "average training loss: 1.5763970070787707\n",
      "train set score: 0.8848000168800354\n",
      "average validation loss: 1.5812726499168737\n",
      "validation set score: 0.8791999816894531\n",
      "-------------------------------\n",
      "Training epoch: 7\n",
      "average training loss: 1.571401943483621\n",
      "train set score: 0.8899999856948853\n",
      "average validation loss: 1.5775138086574092\n",
      "validation set score: 0.8826000094413757\n",
      "-------------------------------\n",
      "Training epoch: 8\n",
      "average training loss: 1.5717703474452123\n",
      "train set score: 0.8891400098800659\n",
      "average validation loss: 1.5806367898442943\n",
      "validation set score: 0.8804000020027161\n",
      "-------------------------------\n",
      "Training epoch: 9\n",
      "average training loss: 1.566547650815276\n",
      "train set score: 0.8941400051116943\n",
      "average validation loss: 1.5730112965699214\n",
      "validation set score: 0.8878999948501587\n",
      "-------------------------------\n",
      "Training epoch: 10\n",
      "average training loss: 1.563905864572891\n",
      "train set score: 0.8969200253486633\n",
      "average validation loss: 1.570724579179363\n",
      "validation set score: 0.8899999856948853\n",
      "-------------------------------\n",
      "Training epoch: 11\n",
      "average training loss: 1.562232670576676\n",
      "train set score: 0.8988000154495239\n",
      "average validation loss: 1.5751385635631099\n",
      "validation set score: 0.8848000168800354\n",
      "-------------------------------\n",
      "Training epoch: 12\n",
      "average training loss: 1.558079287371672\n",
      "train set score: 0.9033399820327759\n",
      "average validation loss: 1.5700220059437358\n",
      "validation set score: 0.8906000256538391\n",
      "-------------------------------\n",
      "Training epoch: 13\n",
      "average training loss: 1.5606868483526322\n",
      "train set score: 0.8999999761581421\n",
      "average validation loss: 1.562278179606055\n",
      "validation set score: 0.8992999792098999\n",
      "-------------------------------\n",
      "Training epoch: 14\n",
      "average training loss: 1.5575073045842789\n",
      "train set score: 0.9037600159645081\n",
      "average validation loss: 1.566163326524625\n",
      "validation set score: 0.8945000171661377\n",
      "-------------------------------\n",
      "Training epoch: 15\n",
      "average training loss: 1.5545553799785312\n",
      "train set score: 0.9061999917030334\n",
      "average validation loss: 1.5642682875797247\n",
      "validation set score: 0.8971999883651733\n",
      "-------------------------------\n",
      "Training epoch: 16\n",
      "average training loss: 1.5543009795801108\n",
      "train set score: 0.906719982624054\n",
      "average validation loss: 1.5734100896082106\n",
      "validation set score: 0.8870000243186951\n",
      "-------------------------------\n",
      "Training epoch: 17\n",
      "average training loss: 1.5537623276795878\n",
      "train set score: 0.9071400165557861\n",
      "average validation loss: 1.5661754137391497\n",
      "validation set score: 0.8946999907493591\n",
      "-------------------------------\n",
      "Training epoch: 18\n",
      "average training loss: 1.5525958527384511\n",
      "train set score: 0.9084799885749817\n",
      "average validation loss: 1.568777763160171\n",
      "validation set score: 0.8924000263214111\n",
      "-------------------------------\n",
      "Training epoch: 19\n",
      "average training loss: 1.551429281454257\n",
      "train set score: 0.9097800254821777\n",
      "average validation loss: 1.5673451621061678\n",
      "validation set score: 0.8932999968528748\n",
      "-------------------------------\n",
      "Training epoch: 20\n",
      "average training loss: 1.5540236906932139\n",
      "train set score: 0.9068400263786316\n",
      "average validation loss: 1.5650735911290357\n",
      "validation set score: 0.8962000012397766\n",
      "-------------------------------\n",
      "Training epoch: 21\n",
      "average training loss: 1.5515232154780336\n",
      "train set score: 0.9097599983215332\n",
      "average validation loss: 1.5709787516077613\n",
      "validation set score: 0.8902000188827515\n",
      "-------------------------------\n",
      "Training epoch: 22\n",
      "average training loss: 1.5476639737253604\n",
      "train set score: 0.912880003452301\n",
      "average validation loss: 1.5674847402390402\n",
      "validation set score: 0.892799973487854\n",
      "-------------------------------\n",
      "Training epoch: 23\n",
      "average training loss: 1.546776151413198\n",
      "train set score: 0.9139599800109863\n",
      "average validation loss: 1.5603481303354738\n",
      "validation set score: 0.9002000093460083\n",
      "-------------------------------\n",
      "Training epoch: 24\n",
      "average training loss: 1.5454485980446075\n",
      "train set score: 0.9156000018119812\n",
      "average validation loss: 1.577886859322809\n",
      "validation set score: 0.8817999958992004\n",
      "-------------------------------\n",
      "Training epoch: 25\n",
      "average training loss: 1.5484818907649927\n",
      "train set score: 0.9128199815750122\n",
      "average validation loss: 1.5640628284709468\n",
      "validation set score: 0.8968999981880188\n",
      "-------------------------------\n",
      "Time taken: 415.84 seconds\n"
     ]
    }
   ],
   "source": [
    "# training\n",
    "train_dataloader = DataLoader(train_data, batch_size=64, shuffle=True, num_workers=2)\n",
    "device ='mps'\n",
    "torch.mps.empty_cache()\n",
    "metric = torchmetrics.Accuracy(task='multiclass', num_classes=10)\n",
    "model = SimpleAlexNet().to(device)\n",
    "loss_fn = torch.nn.CrossEntropyLoss()\n",
    "optimizer = torch.optim.Adam(model.parameters(), lr=.001)\n",
    "metric = torchmetrics.Accuracy(task='multiclass', num_classes=10).to(device)\n",
    "\n",
    "summary = train_validate_iteration(\n",
    "    train_dataloader=train_dataloader,\n",
    "    val_dataloader=val_dataloader,\n",
    "    num_epochs=25,\n",
    "    model=model,\n",
    "    optimizer=optimizer,\n",
    "    loss_fn=loss_fn,\n",
    "    metric=metric,\n",
    "    device=device\n",
    ")"
   ]
  },
  {
   "cell_type": "code",
   "execution_count": 39,
   "metadata": {},
   "outputs": [
    {
     "data": {
      "image/png": "[encoded data removed]",
      "text/plain": [
       "<Figure size 640x480 with 1 Axes>"
      ]
     },
     "metadata": {},
     "output_type": "display_data"
    }
   ],
   "source": [
    "plt.plot(summary['train_loss'], color='skyblue', label='train loss')\n",
    "plt.plot(summary['val_loss'], color='red', label='validation loss')\n",
    "plt.xlabel('Epoch')\n",
    "plt.legend()\n",
    "plt.show()"
   ]
  },
  {
   "cell_type": "code",
   "execution_count": 40,
   "metadata": {},
   "outputs": [
    {
     "data": {
      "image/png": "[encoded data removed]",
      "text/plain": [
       "<Figure size 640x480 with 1 Axes>"
      ]
     },
     "metadata": {},
     "output_type": "display_data"
    }
   ],
   "source": [
    "plt.plot(summary['train_score'], color='skyblue', label='train accuracy')\n",
    "plt.plot(summary['val_score'], color='red', label='validation accuracy')\n",
    "plt.xlabel('Epoch')\n",
    "plt.legend()\n",
    "plt.show()"
   ]
  },
  {
   "cell_type": "markdown",
   "metadata": {},
   "source": [
    "### Measure performance on test data"
   ]
  },
  {
   "cell_type": "code",
   "execution_count": 41,
   "metadata": {},
   "outputs": [],
   "source": [
    "from utils.model_train_test import metrics_across_classes"
   ]
  },
  {
   "cell_type": "code",
   "execution_count": 42,
   "metadata": {},
   "outputs": [
    {
     "name": "stdout",
     "output_type": "stream",
     "text": [
      "         class  precision  recall  f1-score  support\n",
      "0  T-shirt/top   0.816403   0.876  0.845152     1000\n",
      "1      Trouser   0.985743   0.968  0.976791     1000\n",
      "2     Pullover   0.818182   0.819  0.818591     1000\n",
      "3        Dress   0.885458   0.889  0.887226     1000\n",
      "4         Coat   0.741056   0.870  0.800368     1000\n",
      "5       Sandal   0.977528   0.957  0.967155     1000\n",
      "6        Shirt   0.763089   0.583  0.660998     1000\n",
      "7      Sneaker   0.916510   0.977  0.945789     1000\n",
      "8          Bag   0.968907   0.966  0.967451     1000\n",
      "9   Ankle Boot   0.978125   0.939  0.958163     1000\n",
      "--------------------------------------------------\n",
      "Overall accuracy: 0.884\n",
      "Macro average precision: 0.885, Recall: 0.884, F1: 0.883\n",
      "Weighted average precision: 0.885, Recall: 0.884, F1: 0.883\n"
     ]
    }
   ],
   "source": [
    "metrics_across_classes(test_dataloader, model, device, classes)"
   ]
  },
  {
   "cell_type": "markdown",
   "metadata": {},
   "source": [
    "# 5. VGG Net"
   ]
  },
  {
   "cell_type": "markdown",
   "metadata": {},
   "source": [
    "The VGG network is developed by Simonyan and Zisserman (2014) based on the AlexNet, with its architecture shown below. The VGG network is often preferred over AlexNet due to its simplicity."
   ]
  },
  {
   "cell_type": "markdown",
   "metadata": {},
   "source": [
    "The VGG network entails repeated sequences of convolutional layers and a max pooling layer. Each sequence has two convolutional layers with 3X3 filters and same padding to extract features and then 1 max pooling layer with 2X2 filters and 2 strides to half image size. By repeating this sequence, it builds a deep network."
   ]
  },
  {
   "cell_type": "markdown",
   "metadata": {},
   "source": [
    "Below, I build a simple VGG network using parameters of this [Keras tutorial](https://pyimagesearch.com/2019/02/11/fashion-mnist-with-keras-and-deep-learning/#:~:text=The%20Fashion%20MNIST%20dataset,-Figure%201%3A%20The&text=It's%20far%20too%20easy%20for,to%20achieve%2099%25%2B%20accuracy). I translate most of its code from Keras to Pytorch, except the optimizer. The original optimizer has a learning rate that decays as the number of training epochs increases as well as a momentum factor of 0.9. To simplify the code, I used the Adam optimizer."
   ]
  },
  {
   "cell_type": "markdown",
   "metadata": {},
   "source": [
    "<img src=\"./pictures/vgg_architecture.png\" width=\"700\" />"
   ]
  },
  {
   "cell_type": "markdown",
   "metadata": {},
   "source": [
    "<img src=\"./pictures/vgg_architecture_2.jpeg\" width=\"650\" />"
   ]
  },
  {
   "cell_type": "code",
   "execution_count": 43,
   "metadata": {},
   "outputs": [],
   "source": [
    "# Define the LeNet architecture\n",
    "class SimpleVGGNet(nn.Module):\n",
    "    def __init__(self):\n",
    "        super(SimpleVGGNet, self).__init__()\n",
    "\n",
    "        # First conv layer sequence: 28X28X1 -> 14X14X32\n",
    "        self.conv_sequence1 = nn.Sequential(\n",
    "            # First conv layer in sequence 1\n",
    "            # Same padding, extract 32 features\n",
    "            nn.Conv2d(in_channels=1, out_channels=32, kernel_size=3, stride=1, padding=1),\n",
    "            # Activation function\n",
    "            nn.ReLU(),\n",
    "            # Apply batch normalization\n",
    "            nn.BatchNorm2d(num_features=32),\n",
    "            # First conv layer in sequence 1\n",
    "            # Same padding, 32 features\n",
    "            nn.Conv2d(in_channels=32, out_channels=32, kernel_size=3, stride=1, padding=1),\n",
    "            # Activation function\n",
    "            nn.ReLU(),\n",
    "            # Apply batch normalization\n",
    "            nn.BatchNorm2d(num_features=32),\n",
    "            # Max pooling, halfing dimensions\n",
    "            nn.MaxPool2d(kernel_size=2, stride=2),\n",
    "            # Randomly zeroes 25% of the elements of the input, to prevent overfitting\n",
    "            nn.Dropout(0.25)\n",
    "            )\n",
    "        \n",
    "        # First conv layer sequence: 14X14X32 -> 7X7X64\n",
    "        self.conv_sequence2 = nn.Sequential(\n",
    "            nn.Conv2d(in_channels=32, out_channels=64, kernel_size=3, stride=1, padding=1),\n",
    "            nn.ReLU(),\n",
    "            nn.BatchNorm2d(num_features=64),\n",
    "            nn.Conv2d(in_channels=64, out_channels=64, kernel_size=3, stride=1, padding=1),\n",
    "            nn.ReLU(),\n",
    "            nn.BatchNorm2d(num_features=64),\n",
    "            nn.MaxPool2d(kernel_size=2, stride=2),\n",
    "            nn.Dropout(0.25)\n",
    "            )\n",
    "        \n",
    "        # FC later sequence\n",
    "        self.fc_sequence = nn.Sequential(\n",
    "            nn.Flatten(), # Flatten the image for fully connected layers\n",
    "            nn.Linear(7*7*64, 512),\n",
    "            nn.ReLU(),\n",
    "            nn.BatchNorm1d(num_features=512),\n",
    "            nn.Dropout(0.5),\n",
    "            nn.Linear(512, 10)\n",
    "        )\n",
    "\n",
    "    def forward(self, x):\n",
    "        x = self.conv_sequence1(x)\n",
    "        x = self.conv_sequence2(x)\n",
    "        x = self.fc_sequence(x)\n",
    "        return x"
   ]
  },
  {
   "cell_type": "code",
   "execution_count": 44,
   "metadata": {},
   "outputs": [
    {
     "name": "stdout",
     "output_type": "stream",
     "text": [
      "Total number of epochs: 25\n",
      "-------------------------------\n",
      "Training epoch: 1\n"
     ]
    },
    {
     "name": "stdout",
     "output_type": "stream",
     "text": [
      "average training loss: 0.6005246995012169\n",
      "train set score: 0.7929199934005737\n",
      "average validation loss: 0.3834218752042503\n",
      "validation set score: 0.864799976348877\n",
      "-------------------------------\n",
      "Training epoch: 2\n",
      "average training loss: 0.3823827296647879\n",
      "train set score: 0.8629999756813049\n",
      "average validation loss: 0.2709100159585096\n",
      "validation set score: 0.9031999707221985\n",
      "-------------------------------\n",
      "Training epoch: 3\n",
      "average training loss: 0.3236197458718286\n",
      "train set score: 0.8833799958229065\n",
      "average validation loss: 0.28299161639942483\n",
      "validation set score: 0.9023000001907349\n",
      "-------------------------------\n",
      "Training epoch: 4\n",
      "average training loss: 0.2997574055915141\n",
      "train set score: 0.8922600150108337\n",
      "average validation loss: 0.2884467853482362\n",
      "validation set score: 0.8938000202178955\n",
      "-------------------------------\n",
      "Training epoch: 5\n",
      "average training loss: 0.29520800426754806\n",
      "train set score: 0.8941799998283386\n",
      "average validation loss: 0.24364700775807072\n",
      "validation set score: 0.9136000275611877\n",
      "-------------------------------\n",
      "Training epoch: 6\n",
      "average training loss: 0.2692604483965108\n",
      "train set score: 0.9024400115013123\n",
      "average validation loss: 0.31197026049255566\n",
      "validation set score: 0.8885999917984009\n",
      "-------------------------------\n",
      "Training epoch: 7\n",
      "average training loss: 0.27755095551500236\n",
      "train set score: 0.9007200002670288\n",
      "average validation loss: 0.22914993036894282\n",
      "validation set score: 0.9186000227928162\n",
      "-------------------------------\n",
      "Training epoch: 8\n",
      "average training loss: 0.2609375532897537\n",
      "train set score: 0.9066799879074097\n",
      "average validation loss: 0.22752788477832345\n",
      "validation set score: 0.9172000288963318\n",
      "-------------------------------\n",
      "Training epoch: 9\n",
      "average training loss: 0.24927978794497754\n",
      "train set score: 0.9114599823951721\n",
      "average validation loss: 0.23304135907607473\n",
      "validation set score: 0.9150000214576721\n",
      "-------------------------------\n",
      "Training epoch: 10\n",
      "average training loss: 0.24376413851137965\n",
      "train set score: 0.9137799739837646\n",
      "average validation loss: 0.2090508012919669\n",
      "validation set score: 0.9297000169754028\n",
      "-------------------------------\n",
      "Training epoch: 11\n",
      "average training loss: 0.23602007701992989\n",
      "train set score: 0.9164599776268005\n",
      "average validation loss: 0.21269747790447466\n",
      "validation set score: 0.9258999824523926\n",
      "-------------------------------\n",
      "Training epoch: 12\n",
      "average training loss: 0.2222432173512247\n",
      "train set score: 0.9200000166893005\n",
      "average validation loss: 0.20852682438151093\n",
      "validation set score: 0.9277999997138977\n",
      "-------------------------------\n",
      "Training epoch: 13\n",
      "average training loss: 0.2199555679803233\n",
      "train set score: 0.9214000105857849\n",
      "average validation loss: 0.20719310967548257\n",
      "validation set score: 0.927299976348877\n",
      "-------------------------------\n",
      "Training epoch: 14\n",
      "average training loss: 0.21355538386041703\n",
      "train set score: 0.9235399961471558\n",
      "average validation loss: 0.21992163042164153\n",
      "validation set score: 0.9257000088691711\n",
      "-------------------------------\n",
      "Training epoch: 15\n",
      "average training loss: 0.21100797091641693\n",
      "train set score: 0.9244800209999084\n",
      "average validation loss: 0.18823048441558127\n",
      "validation set score: 0.9351000189781189\n",
      "-------------------------------\n",
      "Training epoch: 16\n",
      "average training loss: 0.28318749172398655\n",
      "train set score: 0.8996999859809875\n",
      "average validation loss: 0.26186929370282563\n",
      "validation set score: 0.9240000247955322\n",
      "-------------------------------\n",
      "Training epoch: 17\n",
      "average training loss: 0.22147645448308315\n",
      "train set score: 0.9199600219726562\n",
      "average validation loss: 0.1985752775932953\n",
      "validation set score: 0.9318000078201294\n",
      "-------------------------------\n",
      "Training epoch: 18\n",
      "average training loss: 0.20192097433749825\n",
      "train set score: 0.9277600049972534\n",
      "average validation loss: 0.2131077116889179\n",
      "validation set score: 0.928600013256073\n",
      "-------------------------------\n",
      "Training epoch: 19\n",
      "average training loss: 0.18828936187488496\n",
      "train set score: 0.9332600235939026\n",
      "average validation loss: 0.24749627612104083\n",
      "validation set score: 0.930400013923645\n",
      "-------------------------------\n",
      "Training epoch: 20\n",
      "average training loss: 0.18798213933482574\n",
      "train set score: 0.9337599873542786\n",
      "average validation loss: 0.19869676361655353\n",
      "validation set score: 0.9348000288009644\n",
      "-------------------------------\n",
      "Training epoch: 21\n",
      "average training loss: 0.18116725015613583\n",
      "train set score: 0.9355800151824951\n",
      "average validation loss: 0.19257800827977384\n",
      "validation set score: 0.9354000091552734\n",
      "-------------------------------\n",
      "Training epoch: 22\n",
      "average training loss: 0.17864844578858988\n",
      "train set score: 0.9356200098991394\n",
      "average validation loss: 0.21108312986696223\n",
      "validation set score: 0.9309999942779541\n",
      "-------------------------------\n",
      "Training epoch: 23\n",
      "average training loss: 0.18118353086807157\n",
      "train set score: 0.9362999796867371\n",
      "average validation loss: 0.20416245904935013\n",
      "validation set score: 0.9316999912261963\n",
      "-------------------------------\n",
      "Training epoch: 24\n",
      "average training loss: 0.17847899755146213\n",
      "train set score: 0.9380800127983093\n",
      "average validation loss: 0.2005761508017209\n",
      "validation set score: 0.9358000159263611\n",
      "-------------------------------\n",
      "Training epoch: 25\n",
      "average training loss: 0.16597012393748212\n",
      "train set score: 0.9412000179290771\n",
      "average validation loss: 0.21014967374503613\n",
      "validation set score: 0.9340000152587891\n",
      "-------------------------------\n",
      "Time taken: 487.39 seconds\n"
     ]
    }
   ],
   "source": [
    "# training\n",
    "train_dataloader = DataLoader(train_data, batch_size=64, shuffle=True, num_workers=2)\n",
    "device ='mps'\n",
    "torch.mps.empty_cache()\n",
    "metric = torchmetrics.Accuracy(task='multiclass', num_classes=10)\n",
    "model = SimpleVGGNet().to(device)\n",
    "loss_fn = torch.nn.CrossEntropyLoss()\n",
    "optimizer = torch.optim.Adam(model.parameters(), lr=.01)\n",
    "metric = torchmetrics.Accuracy(task='multiclass', num_classes=10).to(device)\n",
    "\n",
    "summary = train_validate_iteration(\n",
    "    train_dataloader=train_dataloader,\n",
    "    val_dataloader=val_dataloader,\n",
    "    num_epochs=25,\n",
    "    model=model,\n",
    "    optimizer=optimizer,\n",
    "    loss_fn=loss_fn,\n",
    "    metric=metric,\n",
    "    device=device\n",
    ")"
   ]
  },
  {
   "cell_type": "code",
   "execution_count": 45,
   "metadata": {},
   "outputs": [
    {
     "data": {
      "image/png": "[encoded data removed]",
      "text/plain": [
       "<Figure size 640x480 with 1 Axes>"
      ]
     },
     "metadata": {},
     "output_type": "display_data"
    }
   ],
   "source": [
    "plt.plot(summary['train_loss'], color='skyblue', label='train loss')\n",
    "plt.plot(summary['val_loss'], color='red', label='validation loss')\n",
    "plt.xlabel('Epoch')\n",
    "plt.legend()\n",
    "plt.show()"
   ]
  },
  {
   "cell_type": "code",
   "execution_count": 46,
   "metadata": {},
   "outputs": [
    {
     "data": {
      "image/png": "[encoded data removed]",
      "text/plain": [
       "<Figure size 640x480 with 1 Axes>"
      ]
     },
     "metadata": {},
     "output_type": "display_data"
    }
   ],
   "source": [
    "plt.plot(summary['train_score'], color='skyblue', label='train accuracy')\n",
    "plt.plot(summary['val_score'], color='red', label='validation accuracy')\n",
    "plt.xlabel('Epoch')\n",
    "plt.legend()\n",
    "plt.show()"
   ]
  },
  {
   "cell_type": "markdown",
   "metadata": {},
   "source": [
    "### Measure performance on test data"
   ]
  },
  {
   "cell_type": "code",
   "execution_count": 47,
   "metadata": {},
   "outputs": [
    {
     "name": "stdout",
     "output_type": "stream",
     "text": [
      "         class  precision  recall  f1-score  support\n",
      "0  T-shirt/top   0.830341   0.925  0.875118     1000\n",
      "1      Trouser   0.997972   0.984  0.990937     1000\n",
      "2     Pullover   0.872401   0.923  0.896987     1000\n",
      "3        Dress   0.911260   0.955  0.932617     1000\n",
      "4         Coat   0.940265   0.850  0.892857     1000\n",
      "5       Sandal   0.987026   0.989  0.988012     1000\n",
      "6        Shirt   0.835458   0.721  0.774020     1000\n",
      "7      Sneaker   0.952794   0.989  0.970559     1000\n",
      "8          Bag   0.972630   0.995  0.983688     1000\n",
      "9   Ankle Boot   0.988589   0.953  0.970468     1000\n",
      "--------------------------------------------------\n",
      "Overall accuracy: 0.928\n",
      "Macro average precision: 0.929, Recall: 0.928, F1: 0.928\n",
      "Weighted average precision: 0.929, Recall: 0.928, F1: 0.928\n"
     ]
    }
   ],
   "source": [
    "metrics_across_classes(test_dataloader, model, device=device)"
   ]
  },
  {
   "cell_type": "markdown",
   "metadata": {},
   "source": [
    "# 6. Conclusion"
   ]
  },
  {
   "cell_type": "markdown",
   "metadata": {},
   "source": [
    "Among CNNs of three types of architecture, the CNN using VGG architecture achieved the best accuracy after 25 training epochs. If time permits, I'd like to try on-the-fly data augmentation and early stopping in these models."
   ]
  },
  {
   "cell_type": "markdown",
   "metadata": {},
   "source": [
    "# References"
   ]
  },
  {
   "cell_type": "markdown",
   "metadata": {},
   "source": [
    "**LeNet**\n",
    "- LeCun, Y., Bottou, L., Bengio, Y., & Haffner, P. (1998). Gradient-based learning applied to document recognition. Proceedings of the IEEE, 86(11), 2278-2324. Available from https://hal.science/hal-03926082/document\n",
    "- https://medium.com/thecyphy/train-cnn-model-with-pytorch-21dafb918f48\n",
    "- https://pytorch.org/tutorials/recipes/recipes/defining_a_neural_network.html\n",
    "- https://blog.paperspace.com/writing-lenet5-from-scratch-in-python/\n",
    "- https://www.analyticsvidhya.com/blog/2021/03/the-architecture-of-lenet-5/"
   ]
  },
  {
   "cell_type": "markdown",
   "metadata": {},
   "source": [
    "**AlexNet**\n",
    "- Krizhevsky, A., Sutskever, I., & Hinton, G. E. (2012). Imagenet classification with deep convolutional neural networks. Advances in neural information processing systems, 25."
   ]
  },
  {
   "cell_type": "markdown",
   "metadata": {},
   "source": [
    "**VGG Network**\n",
    "- Simonyan, K., & Zisserman, A. (2014). Very deep convolutional networks for large-scale image recognition. arXiv preprint arXiv:1409.1556. Available from: https://arxiv.org/pdf/1312.6034.pdf\n",
    "- https://blog.paperspace.com/vgg-from-scratch-pytorch/\n",
    "- https://viso.ai/deep-learning/vgg-very-deep-convolutional-networks/\n",
    "- https://pyimagesearch.com/2019/02/11/fashion-mnist-with-keras-and-deep-learning/#:~:text=The%20Fashion%20MNIST%20dataset,-Figure%201%3A%20The&text=It's%20far%20too%20easy%20for,to%20achieve%2099%25%2B%20accuracy"
   ]
  }
 ],
 "metadata": {
  "kernelspec": {
   "display_name": "base",
   "language": "python",
   "name": "python3"
  },
  "language_info": {
   "codemirror_mode": {
    "name": "ipython",
    "version": 3
   },
   "file_extension": ".py",
   "mimetype": "text/x-python",
   "name": "python",
   "nbconvert_exporter": "python",
   "pygments_lexer": "ipython3",
   "version": "3.11.5"
  }
 },
 "nbformat": 4,
 "nbformat_minor": 2
}
